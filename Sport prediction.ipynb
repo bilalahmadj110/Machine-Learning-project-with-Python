{
 "cells": [
  {
   "cell_type": "markdown",
   "metadata": {},
   "source": [
    "# Importing Libraries"
   ]
  },
  {
   "cell_type": "code",
   "execution_count": 1,
   "metadata": {},
   "outputs": [],
   "source": [
    "import numpy as np\n",
    "import matplotlib.pyplot as plt\n",
    "import pandas as pd\n",
    "import seaborn as sns\n",
    "from sklearn.model_selection import train_test_split\n",
    "from sklearn import preprocessing\n",
    "from sklearn.preprocessing import StandardScaler\n",
    "%matplotlib inline\n",
    "from sklearn.linear_model import LinearRegression\n",
    "from sklearn import metrics\n",
    "from sklearn.metrics import classification_report, confusion_matrix, accuracy_score\n",
    "import warnings\n",
    "warnings.filterwarnings('ignore')"
   ]
  },
  {
   "cell_type": "markdown",
   "metadata": {},
   "source": [
    "# Importing Dataset"
   ]
  },
  {
   "cell_type": "code",
   "execution_count": 2,
   "metadata": {},
   "outputs": [],
   "source": [
    "df=pd.read_csv('sport.csv')"
   ]
  },
  {
   "cell_type": "code",
   "execution_count": 3,
   "metadata": {},
   "outputs": [
    {
     "data": {
      "text/html": [
       "<div>\n",
       "<style scoped>\n",
       "    .dataframe tbody tr th:only-of-type {\n",
       "        vertical-align: middle;\n",
       "    }\n",
       "\n",
       "    .dataframe tbody tr th {\n",
       "        vertical-align: top;\n",
       "    }\n",
       "\n",
       "    .dataframe thead th {\n",
       "        text-align: right;\n",
       "    }\n",
       "</style>\n",
       "<table border=\"1\" class=\"dataframe\">\n",
       "  <thead>\n",
       "    <tr style=\"text-align: right;\">\n",
       "      <th></th>\n",
       "      <th>date</th>\n",
       "      <th>away_team</th>\n",
       "      <th>away_pitcher</th>\n",
       "      <th>away_score</th>\n",
       "      <th>home_score</th>\n",
       "      <th>home_win</th>\n",
       "      <th>home_team</th>\n",
       "      <th>home_pitcher</th>\n",
       "      <th>away_pitcher_games</th>\n",
       "      <th>home_pitcher_games</th>\n",
       "      <th>closing_total</th>\n",
       "      <th>away_ml_percent</th>\n",
       "      <th>home_ml_odds_percent</th>\n",
       "    </tr>\n",
       "  </thead>\n",
       "  <tbody>\n",
       "    <tr>\n",
       "      <td>0</td>\n",
       "      <td>3/28/19</td>\n",
       "      <td>Los Angeles Angels</td>\n",
       "      <td>T CAHILL</td>\n",
       "      <td>0</td>\n",
       "      <td>4</td>\n",
       "      <td>W</td>\n",
       "      <td>Oakland Athletics</td>\n",
       "      <td>M FIERS</td>\n",
       "      <td>9</td>\n",
       "      <td>15</td>\n",
       "      <td>8.5</td>\n",
       "      <td>51.7</td>\n",
       "      <td>50.0</td>\n",
       "    </tr>\n",
       "    <tr>\n",
       "      <td>1</td>\n",
       "      <td>3/28/19</td>\n",
       "      <td>Pittsburgh Pirates</td>\n",
       "      <td>J TAILLON</td>\n",
       "      <td>3</td>\n",
       "      <td>5</td>\n",
       "      <td>W</td>\n",
       "      <td>Cincinnati Reds</td>\n",
       "      <td>L CASTILLO</td>\n",
       "      <td>5</td>\n",
       "      <td>19</td>\n",
       "      <td>8.5</td>\n",
       "      <td>49.3</td>\n",
       "      <td>52.4</td>\n",
       "    </tr>\n",
       "    <tr>\n",
       "      <td>2</td>\n",
       "      <td>3/28/19</td>\n",
       "      <td>Chicago White Sox</td>\n",
       "      <td>C RODON</td>\n",
       "      <td>3</td>\n",
       "      <td>5</td>\n",
       "      <td>W</td>\n",
       "      <td>Kansas City Royals</td>\n",
       "      <td>B KELLER</td>\n",
       "      <td>6</td>\n",
       "      <td>10</td>\n",
       "      <td>8.5</td>\n",
       "      <td>47.4</td>\n",
       "      <td>54.3</td>\n",
       "    </tr>\n",
       "    <tr>\n",
       "      <td>3</td>\n",
       "      <td>3/28/19</td>\n",
       "      <td>Arizona Diamondbacks</td>\n",
       "      <td>Z GREINKE</td>\n",
       "      <td>5</td>\n",
       "      <td>12</td>\n",
       "      <td>W</td>\n",
       "      <td>Los Angeles Dodgers</td>\n",
       "      <td>H RYU</td>\n",
       "      <td>33</td>\n",
       "      <td>13</td>\n",
       "      <td>7.0</td>\n",
       "      <td>39.4</td>\n",
       "      <td>62.3</td>\n",
       "    </tr>\n",
       "    <tr>\n",
       "      <td>4</td>\n",
       "      <td>3/28/19</td>\n",
       "      <td>Colorado Rockies</td>\n",
       "      <td>K FREELAND</td>\n",
       "      <td>6</td>\n",
       "      <td>3</td>\n",
       "      <td>L</td>\n",
       "      <td>Miami Marlins</td>\n",
       "      <td>J URENA</td>\n",
       "      <td>21</td>\n",
       "      <td>6</td>\n",
       "      <td>7.5</td>\n",
       "      <td>56.0</td>\n",
       "      <td>45.7</td>\n",
       "    </tr>\n",
       "  </tbody>\n",
       "</table>\n",
       "</div>"
      ],
      "text/plain": [
       "      date             away_team away_pitcher  away_score  home_score  \\\n",
       "0  3/28/19    Los Angeles Angels     T CAHILL           0           4   \n",
       "1  3/28/19    Pittsburgh Pirates    J TAILLON           3           5   \n",
       "2  3/28/19     Chicago White Sox      C RODON           3           5   \n",
       "3  3/28/19  Arizona Diamondbacks    Z GREINKE           5          12   \n",
       "4  3/28/19      Colorado Rockies   K FREELAND           6           3   \n",
       "\n",
       "  home_win            home_team home_pitcher  away_pitcher_games  \\\n",
       "0        W    Oakland Athletics      M FIERS                   9   \n",
       "1        W      Cincinnati Reds   L CASTILLO                   5   \n",
       "2        W   Kansas City Royals     B KELLER                   6   \n",
       "3        W  Los Angeles Dodgers        H RYU                  33   \n",
       "4        L        Miami Marlins      J URENA                  21   \n",
       "\n",
       "   home_pitcher_games  closing_total  away_ml_percent  home_ml_odds_percent  \n",
       "0                  15            8.5             51.7                  50.0  \n",
       "1                  19            8.5             49.3                  52.4  \n",
       "2                  10            8.5             47.4                  54.3  \n",
       "3                  13            7.0             39.4                  62.3  \n",
       "4                   6            7.5             56.0                  45.7  "
      ]
     },
     "execution_count": 3,
     "metadata": {},
     "output_type": "execute_result"
    }
   ],
   "source": [
    "df.head()"
   ]
  },
  {
   "cell_type": "markdown",
   "metadata": {},
   "source": [
    "# Checking Missing Values"
   ]
  },
  {
   "cell_type": "code",
   "execution_count": 4,
   "metadata": {},
   "outputs": [
    {
     "data": {
      "text/plain": [
       "date                    0\n",
       "away_team               0\n",
       "away_pitcher            0\n",
       "away_score              0\n",
       "home_score              0\n",
       "home_win                0\n",
       "home_team               0\n",
       "home_pitcher            0\n",
       "away_pitcher_games      0\n",
       "home_pitcher_games      0\n",
       "closing_total           0\n",
       "away_ml_percent         0\n",
       "home_ml_odds_percent    0\n",
       "dtype: int64"
      ]
     },
     "execution_count": 4,
     "metadata": {},
     "output_type": "execute_result"
    }
   ],
   "source": [
    "df.isna().sum()"
   ]
  },
  {
   "cell_type": "markdown",
   "metadata": {},
   "source": [
    "# Checking Shape"
   ]
  },
  {
   "cell_type": "code",
   "execution_count": 5,
   "metadata": {},
   "outputs": [
    {
     "data": {
      "text/plain": [
       "(2425, 13)"
      ]
     },
     "execution_count": 5,
     "metadata": {},
     "output_type": "execute_result"
    }
   ],
   "source": [
    "df.shape"
   ]
  },
  {
   "cell_type": "code",
   "execution_count": 6,
   "metadata": {},
   "outputs": [
    {
     "name": "stdout",
     "output_type": "stream",
     "text": [
      "<class 'pandas.core.frame.DataFrame'>\n",
      "RangeIndex: 2425 entries, 0 to 2424\n",
      "Data columns (total 13 columns):\n",
      "date                    2425 non-null object\n",
      "away_team               2425 non-null object\n",
      "away_pitcher            2425 non-null object\n",
      "away_score              2425 non-null int64\n",
      "home_score              2425 non-null int64\n",
      "home_win                2425 non-null object\n",
      "home_team               2425 non-null object\n",
      "home_pitcher            2425 non-null object\n",
      "away_pitcher_games      2425 non-null int64\n",
      "home_pitcher_games      2425 non-null int64\n",
      "closing_total           2425 non-null float64\n",
      "away_ml_percent         2425 non-null float64\n",
      "home_ml_odds_percent    2425 non-null float64\n",
      "dtypes: float64(3), int64(4), object(6)\n",
      "memory usage: 246.4+ KB\n"
     ]
    }
   ],
   "source": [
    "df.info()"
   ]
  },
  {
   "cell_type": "markdown",
   "metadata": {},
   "source": [
    "# Dealing with Date Attribute"
   ]
  },
  {
   "cell_type": "code",
   "execution_count": 7,
   "metadata": {},
   "outputs": [],
   "source": [
    "df['date']= pd.to_datetime(df['date'])"
   ]
  },
  {
   "cell_type": "code",
   "execution_count": 8,
   "metadata": {},
   "outputs": [],
   "source": [
    "df['month'] = df['date'].dt.month"
   ]
  },
  {
   "cell_type": "code",
   "execution_count": 9,
   "metadata": {},
   "outputs": [
    {
     "data": {
      "text/html": [
       "<div>\n",
       "<style scoped>\n",
       "    .dataframe tbody tr th:only-of-type {\n",
       "        vertical-align: middle;\n",
       "    }\n",
       "\n",
       "    .dataframe tbody tr th {\n",
       "        vertical-align: top;\n",
       "    }\n",
       "\n",
       "    .dataframe thead th {\n",
       "        text-align: right;\n",
       "    }\n",
       "</style>\n",
       "<table border=\"1\" class=\"dataframe\">\n",
       "  <thead>\n",
       "    <tr style=\"text-align: right;\">\n",
       "      <th></th>\n",
       "      <th>date</th>\n",
       "      <th>month</th>\n",
       "    </tr>\n",
       "  </thead>\n",
       "  <tbody>\n",
       "    <tr>\n",
       "      <td>0</td>\n",
       "      <td>2019-03-28</td>\n",
       "      <td>3</td>\n",
       "    </tr>\n",
       "    <tr>\n",
       "      <td>1</td>\n",
       "      <td>2019-03-28</td>\n",
       "      <td>3</td>\n",
       "    </tr>\n",
       "    <tr>\n",
       "      <td>2</td>\n",
       "      <td>2019-03-28</td>\n",
       "      <td>3</td>\n",
       "    </tr>\n",
       "    <tr>\n",
       "      <td>3</td>\n",
       "      <td>2019-03-28</td>\n",
       "      <td>3</td>\n",
       "    </tr>\n",
       "    <tr>\n",
       "      <td>4</td>\n",
       "      <td>2019-03-28</td>\n",
       "      <td>3</td>\n",
       "    </tr>\n",
       "  </tbody>\n",
       "</table>\n",
       "</div>"
      ],
      "text/plain": [
       "        date  month\n",
       "0 2019-03-28      3\n",
       "1 2019-03-28      3\n",
       "2 2019-03-28      3\n",
       "3 2019-03-28      3\n",
       "4 2019-03-28      3"
      ]
     },
     "execution_count": 9,
     "metadata": {},
     "output_type": "execute_result"
    }
   ],
   "source": [
    "df[['date','month']].head()"
   ]
  },
  {
   "cell_type": "code",
   "execution_count": 10,
   "metadata": {},
   "outputs": [],
   "source": [
    "df['day'] = df['date'].dt.day\n"
   ]
  },
  {
   "cell_type": "code",
   "execution_count": 11,
   "metadata": {},
   "outputs": [],
   "source": [
    "df['year'] = df['date'].dt.year"
   ]
  },
  {
   "cell_type": "code",
   "execution_count": 12,
   "metadata": {},
   "outputs": [
    {
     "data": {
      "text/html": [
       "<div>\n",
       "<style scoped>\n",
       "    .dataframe tbody tr th:only-of-type {\n",
       "        vertical-align: middle;\n",
       "    }\n",
       "\n",
       "    .dataframe tbody tr th {\n",
       "        vertical-align: top;\n",
       "    }\n",
       "\n",
       "    .dataframe thead th {\n",
       "        text-align: right;\n",
       "    }\n",
       "</style>\n",
       "<table border=\"1\" class=\"dataframe\">\n",
       "  <thead>\n",
       "    <tr style=\"text-align: right;\">\n",
       "      <th></th>\n",
       "      <th>date</th>\n",
       "      <th>away_team</th>\n",
       "      <th>away_pitcher</th>\n",
       "      <th>away_score</th>\n",
       "      <th>home_score</th>\n",
       "      <th>home_win</th>\n",
       "      <th>home_team</th>\n",
       "      <th>home_pitcher</th>\n",
       "      <th>away_pitcher_games</th>\n",
       "      <th>home_pitcher_games</th>\n",
       "      <th>closing_total</th>\n",
       "      <th>away_ml_percent</th>\n",
       "      <th>home_ml_odds_percent</th>\n",
       "      <th>month</th>\n",
       "      <th>day</th>\n",
       "      <th>year</th>\n",
       "    </tr>\n",
       "  </thead>\n",
       "  <tbody>\n",
       "    <tr>\n",
       "      <td>0</td>\n",
       "      <td>2019-03-28</td>\n",
       "      <td>Los Angeles Angels</td>\n",
       "      <td>T CAHILL</td>\n",
       "      <td>0</td>\n",
       "      <td>4</td>\n",
       "      <td>W</td>\n",
       "      <td>Oakland Athletics</td>\n",
       "      <td>M FIERS</td>\n",
       "      <td>9</td>\n",
       "      <td>15</td>\n",
       "      <td>8.5</td>\n",
       "      <td>51.7</td>\n",
       "      <td>50.0</td>\n",
       "      <td>3</td>\n",
       "      <td>28</td>\n",
       "      <td>2019</td>\n",
       "    </tr>\n",
       "    <tr>\n",
       "      <td>1</td>\n",
       "      <td>2019-03-28</td>\n",
       "      <td>Pittsburgh Pirates</td>\n",
       "      <td>J TAILLON</td>\n",
       "      <td>3</td>\n",
       "      <td>5</td>\n",
       "      <td>W</td>\n",
       "      <td>Cincinnati Reds</td>\n",
       "      <td>L CASTILLO</td>\n",
       "      <td>5</td>\n",
       "      <td>19</td>\n",
       "      <td>8.5</td>\n",
       "      <td>49.3</td>\n",
       "      <td>52.4</td>\n",
       "      <td>3</td>\n",
       "      <td>28</td>\n",
       "      <td>2019</td>\n",
       "    </tr>\n",
       "    <tr>\n",
       "      <td>2</td>\n",
       "      <td>2019-03-28</td>\n",
       "      <td>Chicago White Sox</td>\n",
       "      <td>C RODON</td>\n",
       "      <td>3</td>\n",
       "      <td>5</td>\n",
       "      <td>W</td>\n",
       "      <td>Kansas City Royals</td>\n",
       "      <td>B KELLER</td>\n",
       "      <td>6</td>\n",
       "      <td>10</td>\n",
       "      <td>8.5</td>\n",
       "      <td>47.4</td>\n",
       "      <td>54.3</td>\n",
       "      <td>3</td>\n",
       "      <td>28</td>\n",
       "      <td>2019</td>\n",
       "    </tr>\n",
       "    <tr>\n",
       "      <td>3</td>\n",
       "      <td>2019-03-28</td>\n",
       "      <td>Arizona Diamondbacks</td>\n",
       "      <td>Z GREINKE</td>\n",
       "      <td>5</td>\n",
       "      <td>12</td>\n",
       "      <td>W</td>\n",
       "      <td>Los Angeles Dodgers</td>\n",
       "      <td>H RYU</td>\n",
       "      <td>33</td>\n",
       "      <td>13</td>\n",
       "      <td>7.0</td>\n",
       "      <td>39.4</td>\n",
       "      <td>62.3</td>\n",
       "      <td>3</td>\n",
       "      <td>28</td>\n",
       "      <td>2019</td>\n",
       "    </tr>\n",
       "    <tr>\n",
       "      <td>4</td>\n",
       "      <td>2019-03-28</td>\n",
       "      <td>Colorado Rockies</td>\n",
       "      <td>K FREELAND</td>\n",
       "      <td>6</td>\n",
       "      <td>3</td>\n",
       "      <td>L</td>\n",
       "      <td>Miami Marlins</td>\n",
       "      <td>J URENA</td>\n",
       "      <td>21</td>\n",
       "      <td>6</td>\n",
       "      <td>7.5</td>\n",
       "      <td>56.0</td>\n",
       "      <td>45.7</td>\n",
       "      <td>3</td>\n",
       "      <td>28</td>\n",
       "      <td>2019</td>\n",
       "    </tr>\n",
       "  </tbody>\n",
       "</table>\n",
       "</div>"
      ],
      "text/plain": [
       "        date             away_team away_pitcher  away_score  home_score  \\\n",
       "0 2019-03-28    Los Angeles Angels     T CAHILL           0           4   \n",
       "1 2019-03-28    Pittsburgh Pirates    J TAILLON           3           5   \n",
       "2 2019-03-28     Chicago White Sox      C RODON           3           5   \n",
       "3 2019-03-28  Arizona Diamondbacks    Z GREINKE           5          12   \n",
       "4 2019-03-28      Colorado Rockies   K FREELAND           6           3   \n",
       "\n",
       "  home_win            home_team home_pitcher  away_pitcher_games  \\\n",
       "0        W    Oakland Athletics      M FIERS                   9   \n",
       "1        W      Cincinnati Reds   L CASTILLO                   5   \n",
       "2        W   Kansas City Royals     B KELLER                   6   \n",
       "3        W  Los Angeles Dodgers        H RYU                  33   \n",
       "4        L        Miami Marlins      J URENA                  21   \n",
       "\n",
       "   home_pitcher_games  closing_total  away_ml_percent  home_ml_odds_percent  \\\n",
       "0                  15            8.5             51.7                  50.0   \n",
       "1                  19            8.5             49.3                  52.4   \n",
       "2                  10            8.5             47.4                  54.3   \n",
       "3                  13            7.0             39.4                  62.3   \n",
       "4                   6            7.5             56.0                  45.7   \n",
       "\n",
       "   month  day  year  \n",
       "0      3   28  2019  \n",
       "1      3   28  2019  \n",
       "2      3   28  2019  \n",
       "3      3   28  2019  \n",
       "4      3   28  2019  "
      ]
     },
     "execution_count": 12,
     "metadata": {},
     "output_type": "execute_result"
    }
   ],
   "source": [
    "df.head()"
   ]
  },
  {
   "cell_type": "markdown",
   "metadata": {},
   "source": [
    "# Statistical Overview of Dataset"
   ]
  },
  {
   "cell_type": "code",
   "execution_count": 13,
   "metadata": {},
   "outputs": [
    {
     "data": {
      "text/html": [
       "<div>\n",
       "<style scoped>\n",
       "    .dataframe tbody tr th:only-of-type {\n",
       "        vertical-align: middle;\n",
       "    }\n",
       "\n",
       "    .dataframe tbody tr th {\n",
       "        vertical-align: top;\n",
       "    }\n",
       "\n",
       "    .dataframe thead th {\n",
       "        text-align: right;\n",
       "    }\n",
       "</style>\n",
       "<table border=\"1\" class=\"dataframe\">\n",
       "  <thead>\n",
       "    <tr style=\"text-align: right;\">\n",
       "      <th></th>\n",
       "      <th>away_score</th>\n",
       "      <th>home_score</th>\n",
       "      <th>away_pitcher_games</th>\n",
       "      <th>home_pitcher_games</th>\n",
       "      <th>closing_total</th>\n",
       "      <th>away_ml_percent</th>\n",
       "      <th>home_ml_odds_percent</th>\n",
       "      <th>month</th>\n",
       "      <th>day</th>\n",
       "      <th>year</th>\n",
       "    </tr>\n",
       "  </thead>\n",
       "  <tbody>\n",
       "    <tr>\n",
       "      <td>count</td>\n",
       "      <td>2425.000000</td>\n",
       "      <td>2425.000000</td>\n",
       "      <td>2425.000000</td>\n",
       "      <td>2425.000000</td>\n",
       "      <td>2425.000000</td>\n",
       "      <td>2425.000000</td>\n",
       "      <td>2425.000000</td>\n",
       "      <td>2425.000000</td>\n",
       "      <td>2425.000000</td>\n",
       "      <td>2425.0</td>\n",
       "    </tr>\n",
       "    <tr>\n",
       "      <td>mean</td>\n",
       "      <td>4.816907</td>\n",
       "      <td>4.825979</td>\n",
       "      <td>11.170722</td>\n",
       "      <td>5.341443</td>\n",
       "      <td>9.114227</td>\n",
       "      <td>47.334186</td>\n",
       "      <td>54.366103</td>\n",
       "      <td>6.450722</td>\n",
       "      <td>16.060206</td>\n",
       "      <td>2019.0</td>\n",
       "    </tr>\n",
       "    <tr>\n",
       "      <td>std</td>\n",
       "      <td>3.409044</td>\n",
       "      <td>3.220741</td>\n",
       "      <td>8.684926</td>\n",
       "      <td>4.416408</td>\n",
       "      <td>1.216186</td>\n",
       "      <td>11.047962</td>\n",
       "      <td>11.048058</td>\n",
       "      <td>1.779323</td>\n",
       "      <td>8.916860</td>\n",
       "      <td>0.0</td>\n",
       "    </tr>\n",
       "    <tr>\n",
       "      <td>min</td>\n",
       "      <td>0.000000</td>\n",
       "      <td>0.000000</td>\n",
       "      <td>0.000000</td>\n",
       "      <td>0.000000</td>\n",
       "      <td>6.000000</td>\n",
       "      <td>17.800000</td>\n",
       "      <td>19.800000</td>\n",
       "      <td>3.000000</td>\n",
       "      <td>1.000000</td>\n",
       "      <td>2019.0</td>\n",
       "    </tr>\n",
       "    <tr>\n",
       "      <td>25%</td>\n",
       "      <td>2.000000</td>\n",
       "      <td>2.000000</td>\n",
       "      <td>4.000000</td>\n",
       "      <td>2.000000</td>\n",
       "      <td>8.500000</td>\n",
       "      <td>39.600000</td>\n",
       "      <td>46.500000</td>\n",
       "      <td>5.000000</td>\n",
       "      <td>8.000000</td>\n",
       "      <td>2019.0</td>\n",
       "    </tr>\n",
       "    <tr>\n",
       "      <td>50%</td>\n",
       "      <td>4.000000</td>\n",
       "      <td>4.000000</td>\n",
       "      <td>10.000000</td>\n",
       "      <td>4.000000</td>\n",
       "      <td>9.000000</td>\n",
       "      <td>46.700000</td>\n",
       "      <td>55.000000</td>\n",
       "      <td>6.000000</td>\n",
       "      <td>16.000000</td>\n",
       "      <td>2019.0</td>\n",
       "    </tr>\n",
       "    <tr>\n",
       "      <td>75%</td>\n",
       "      <td>7.000000</td>\n",
       "      <td>7.000000</td>\n",
       "      <td>18.000000</td>\n",
       "      <td>8.000000</td>\n",
       "      <td>9.500000</td>\n",
       "      <td>55.200000</td>\n",
       "      <td>62.100000</td>\n",
       "      <td>8.000000</td>\n",
       "      <td>24.000000</td>\n",
       "      <td>2019.0</td>\n",
       "    </tr>\n",
       "    <tr>\n",
       "      <td>max</td>\n",
       "      <td>23.000000</td>\n",
       "      <td>21.000000</td>\n",
       "      <td>34.000000</td>\n",
       "      <td>19.000000</td>\n",
       "      <td>15.000000</td>\n",
       "      <td>81.900000</td>\n",
       "      <td>83.900000</td>\n",
       "      <td>10.000000</td>\n",
       "      <td>31.000000</td>\n",
       "      <td>2019.0</td>\n",
       "    </tr>\n",
       "  </tbody>\n",
       "</table>\n",
       "</div>"
      ],
      "text/plain": [
       "        away_score   home_score  away_pitcher_games  home_pitcher_games  \\\n",
       "count  2425.000000  2425.000000         2425.000000         2425.000000   \n",
       "mean      4.816907     4.825979           11.170722            5.341443   \n",
       "std       3.409044     3.220741            8.684926            4.416408   \n",
       "min       0.000000     0.000000            0.000000            0.000000   \n",
       "25%       2.000000     2.000000            4.000000            2.000000   \n",
       "50%       4.000000     4.000000           10.000000            4.000000   \n",
       "75%       7.000000     7.000000           18.000000            8.000000   \n",
       "max      23.000000    21.000000           34.000000           19.000000   \n",
       "\n",
       "       closing_total  away_ml_percent  home_ml_odds_percent        month  \\\n",
       "count    2425.000000      2425.000000           2425.000000  2425.000000   \n",
       "mean        9.114227        47.334186             54.366103     6.450722   \n",
       "std         1.216186        11.047962             11.048058     1.779323   \n",
       "min         6.000000        17.800000             19.800000     3.000000   \n",
       "25%         8.500000        39.600000             46.500000     5.000000   \n",
       "50%         9.000000        46.700000             55.000000     6.000000   \n",
       "75%         9.500000        55.200000             62.100000     8.000000   \n",
       "max        15.000000        81.900000             83.900000    10.000000   \n",
       "\n",
       "               day    year  \n",
       "count  2425.000000  2425.0  \n",
       "mean     16.060206  2019.0  \n",
       "std       8.916860     0.0  \n",
       "min       1.000000  2019.0  \n",
       "25%       8.000000  2019.0  \n",
       "50%      16.000000  2019.0  \n",
       "75%      24.000000  2019.0  \n",
       "max      31.000000  2019.0  "
      ]
     },
     "execution_count": 13,
     "metadata": {},
     "output_type": "execute_result"
    }
   ],
   "source": [
    "df.describe()"
   ]
  },
  {
   "cell_type": "code",
   "execution_count": 14,
   "metadata": {},
   "outputs": [
    {
     "data": {
      "text/html": [
       "<div>\n",
       "<style scoped>\n",
       "    .dataframe tbody tr th:only-of-type {\n",
       "        vertical-align: middle;\n",
       "    }\n",
       "\n",
       "    .dataframe tbody tr th {\n",
       "        vertical-align: top;\n",
       "    }\n",
       "\n",
       "    .dataframe thead th {\n",
       "        text-align: right;\n",
       "    }\n",
       "</style>\n",
       "<table border=\"1\" class=\"dataframe\">\n",
       "  <thead>\n",
       "    <tr style=\"text-align: right;\">\n",
       "      <th></th>\n",
       "      <th>away_team</th>\n",
       "      <th>away_pitcher</th>\n",
       "      <th>home_win</th>\n",
       "      <th>home_team</th>\n",
       "      <th>home_pitcher</th>\n",
       "    </tr>\n",
       "  </thead>\n",
       "  <tbody>\n",
       "    <tr>\n",
       "      <td>count</td>\n",
       "      <td>2425</td>\n",
       "      <td>2425</td>\n",
       "      <td>2425</td>\n",
       "      <td>2425</td>\n",
       "      <td>2425</td>\n",
       "    </tr>\n",
       "    <tr>\n",
       "      <td>unique</td>\n",
       "      <td>30</td>\n",
       "      <td>327</td>\n",
       "      <td>2</td>\n",
       "      <td>30</td>\n",
       "      <td>325</td>\n",
       "    </tr>\n",
       "    <tr>\n",
       "      <td>top</td>\n",
       "      <td>Tampa Bay Rays</td>\n",
       "      <td>S STRASBURG</td>\n",
       "      <td>W</td>\n",
       "      <td>Washington Nationals</td>\n",
       "      <td>L CASTILLO</td>\n",
       "    </tr>\n",
       "    <tr>\n",
       "      <td>freq</td>\n",
       "      <td>84</td>\n",
       "      <td>20</td>\n",
       "      <td>1288</td>\n",
       "      <td>84</td>\n",
       "      <td>20</td>\n",
       "    </tr>\n",
       "  </tbody>\n",
       "</table>\n",
       "</div>"
      ],
      "text/plain": [
       "             away_team away_pitcher home_win             home_team  \\\n",
       "count             2425         2425     2425                  2425   \n",
       "unique              30          327        2                    30   \n",
       "top     Tampa Bay Rays  S STRASBURG        W  Washington Nationals   \n",
       "freq                84           20     1288                    84   \n",
       "\n",
       "       home_pitcher  \n",
       "count          2425  \n",
       "unique          325  \n",
       "top      L CASTILLO  \n",
       "freq             20  "
      ]
     },
     "execution_count": 14,
     "metadata": {},
     "output_type": "execute_result"
    }
   ],
   "source": [
    "df.describe(include=[\"O\"])"
   ]
  },
  {
   "cell_type": "markdown",
   "metadata": {},
   "source": [
    "# Removing unnecessary attribute"
   ]
  },
  {
   "cell_type": "code",
   "execution_count": 15,
   "metadata": {},
   "outputs": [],
   "source": [
    "df=df.drop(['date'], axis=1)"
   ]
  },
  {
   "cell_type": "markdown",
   "metadata": {},
   "source": [
    "# Train and Test Data"
   ]
  },
  {
   "cell_type": "code",
   "execution_count": 16,
   "metadata": {},
   "outputs": [],
   "source": [
    "X=df.drop(['home_win'], axis=1)"
   ]
  },
  {
   "cell_type": "code",
   "execution_count": 17,
   "metadata": {},
   "outputs": [],
   "source": [
    "#ONEHOT ENCODING BLOCK\n",
    "X = pd.get_dummies(X, columns=['away_team', 'home_team', 'away_pitcher','home_pitcher'])\n"
   ]
  },
  {
   "cell_type": "markdown",
   "metadata": {},
   "source": [
    "# Label Encoder"
   ]
  },
  {
   "cell_type": "code",
   "execution_count": 18,
   "metadata": {},
   "outputs": [
    {
     "data": {
      "text/plain": [
       "array([1, 1, 1, ..., 1, 0, 1])"
      ]
     },
     "execution_count": 18,
     "metadata": {},
     "output_type": "execute_result"
    }
   ],
   "source": [
    "from sklearn.preprocessing import LabelEncoder\n",
    "class_le = LabelEncoder()\n",
    "y = class_le.fit_transform(df['home_win'].values)\n",
    "y\n"
   ]
  },
  {
   "cell_type": "markdown",
   "metadata": {},
   "source": [
    "# Train Test Split"
   ]
  },
  {
   "cell_type": "code",
   "execution_count": 19,
   "metadata": {},
   "outputs": [],
   "source": [
    "X_train,X_test,y_train,y_test=train_test_split(X,y,test_size=0.3,random_state=0)"
   ]
  },
  {
   "cell_type": "code",
   "execution_count": 20,
   "metadata": {},
   "outputs": [
    {
     "name": "stdout",
     "output_type": "stream",
     "text": [
      "(1697, 722)\n",
      "(728, 722)\n",
      "(1697,)\n",
      "(728,)\n"
     ]
    }
   ],
   "source": [
    "print(X_train.shape)\n",
    "print(X_test.shape)\n",
    "print(y_train.shape)\n",
    "print(y_test.shape)"
   ]
  },
  {
   "cell_type": "markdown",
   "metadata": {},
   "source": [
    "# Linear Model(Machine Learning Algorithm)"
   ]
  },
  {
   "cell_type": "code",
   "execution_count": 21,
   "metadata": {},
   "outputs": [
    {
     "data": {
      "text/plain": [
       "LinearRegression(copy_X=True, fit_intercept=True, n_jobs=None, normalize=False)"
      ]
     },
     "execution_count": 21,
     "metadata": {},
     "output_type": "execute_result"
    }
   ],
   "source": [
    "regressor = LinearRegression()  \n",
    "regressor.fit(X_train, y_train) #training the algorithm"
   ]
  },
  {
   "cell_type": "code",
   "execution_count": 22,
   "metadata": {},
   "outputs": [
    {
     "name": "stdout",
     "output_type": "stream",
     "text": [
      "-44750100690324.92\n",
      "[-8.65124566e-02  8.52046259e-02  2.01892996e-03  6.80148407e-03\n",
      " -1.28166278e-03  2.15836831e-01  2.12201651e-01  1.00846771e-02\n",
      " -5.39706149e-04  2.21652304e+10  3.68408845e+09  1.14197553e+09\n",
      "  1.14197553e+09  1.14197553e+09  1.35053520e+09  3.18445291e+09\n",
      "  1.14197553e+09  1.14197553e+09  1.14197553e+09  3.68408845e+09\n",
      "  3.68408845e+09  1.14197553e+09  1.14197553e+09  5.17534396e+09\n",
      "  3.68408845e+09  1.35053520e+09 -2.64855934e+09  3.68408845e+09\n",
      "  2.45197679e+07  1.14197553e+09  3.68408845e+09  1.35053520e+09\n",
      "  3.58644441e+09  1.35053520e+09  3.68408845e+09 -1.39225098e+09\n",
      "  3.68408845e+09  3.68408845e+09  3.68408845e+09  4.25968008e+09\n",
      " -3.50081686e+09 -1.68795759e+08 -4.21356574e+09 -4.21356573e+09\n",
      " -2.86020559e+09 -2.99675637e+09 -4.21356574e+09 -4.21356574e+09\n",
      " -4.21356574e+09 -3.50081686e+09 -3.50081686e+09 -4.21356574e+09\n",
      " -4.44796718e+09 -6.20493568e+07 -3.50081686e+09 -4.21356573e+09\n",
      " -2.22947266e+09 -3.50081686e+09 -4.92124288e+09 -4.21356574e+09\n",
      " -3.50081686e+09 -4.21356573e+09 -3.11228667e+09 -3.23557447e+09\n",
      " -3.50081686e+09 -1.81733483e+08 -3.50081686e+09 -3.50081686e+09\n",
      " -3.50081686e+09  1.10908502e+09 -1.48000155e+09  8.53551694e+08\n",
      " -1.48000155e+09  1.06211136e+09  1.06211136e+09  1.06211136e+09\n",
      "  1.06211136e+09  1.06211136e+09  1.06211136e+09  8.53551694e+08\n",
      " -1.48000155e+09 -1.48000155e+09 -1.48000155e+09  2.30318962e+08\n",
      "  8.53551695e+08 -1.38235752e+09 -1.48000155e+09  1.06211136e+09\n",
      " -1.48000155e+09 -2.05559318e+09  1.06211136e+09 -2.05559318e+09\n",
      "  3.59633787e+09  1.06211136e+09  1.06211136e+09 -1.48000155e+09\n",
      " -1.48000155e+09  1.06211136e+09 -1.48000155e+09 -1.48000155e+09\n",
      "  1.06211136e+09  1.06211136e+09 -1.48000155e+09 -1.48000155e+09\n",
      " -1.48000155e+09 -1.48000155e+09  1.06211136e+09 -1.48000155e+09\n",
      "  1.06211136e+09  8.53551694e+08  8.53551694e+08  8.53551694e+08\n",
      "  1.06211136e+09  1.06211136e+09  1.06211136e+09 -1.48000155e+09\n",
      "  8.53551694e+08  1.06211136e+09  6.78272334e+07 -1.48000155e+09\n",
      " -9.80366011e+08 -1.48000155e+09  1.06211136e+09  2.17956713e+09\n",
      "  8.53551695e+08 -1.48000155e+09 -2.97125706e+09  1.06211136e+09\n",
      " -6.47428901e+08 -1.48000155e+09 -1.48000155e+09 -1.38235752e+09\n",
      " -1.38235752e+09 -1.48000155e+09 -9.80366011e+08  2.17956713e+09\n",
      "  1.06211136e+09  1.06211136e+09  1.06211136e+09 -1.48000155e+09\n",
      "  1.06211136e+09  8.53551695e+08  1.06211136e+09 -1.48000155e+09\n",
      " -9.80366011e+08 -9.80366011e+08  1.06211136e+09  2.17956713e+09\n",
      "  1.06211136e+09  8.53551695e+08  1.06211136e+09 -1.38235752e+09\n",
      " -1.48000155e+09 -2.97125706e+09  1.06211136e+09 -1.48000155e+09\n",
      "  1.06211136e+09  8.53551694e+08  3.59633787e+09  1.06211136e+09\n",
      "  8.53551695e+08  4.85264623e+09 -1.48000155e+09  1.06211136e+09\n",
      " -1.48000155e+09  3.59633787e+09 -1.48000155e+09 -2.05559318e+09\n",
      " -1.48000155e+09 -1.48000155e+09 -1.38235752e+09  1.06211136e+09\n",
      " -9.80366011e+08 -1.26578420e+04 -1.48000155e+09 -1.48000155e+09\n",
      " -1.48000155e+09  1.06211136e+09  1.06211136e+09  8.53551695e+08\n",
      " -1.48000155e+09 -1.48000155e+09  3.59633787e+09  1.06211136e+09\n",
      " -1.48000155e+09  8.53551695e+08  1.06211136e+09 -1.38235752e+09\n",
      " -1.48000155e+09  1.06211136e+09  1.06211136e+09  1.06211136e+09\n",
      "  1.06211136e+09 -1.48000155e+09 -1.48000155e+09 -2.97125706e+09\n",
      " -9.80366011e+08  1.06211136e+09 -9.80366011e+08 -1.88445753e+05\n",
      " -1.48000155e+09  1.06211136e+09 -1.48000155e+09  4.85264623e+09\n",
      "  8.53551695e+08 -1.48000155e+09  8.53551695e+08 -1.48000155e+09\n",
      " -1.48000155e+09 -9.40031388e+04 -1.48000155e+09  3.59633787e+09\n",
      "  1.06211136e+09  2.17956713e+09 -2.05559318e+09 -1.48000155e+09\n",
      "  1.06211136e+09  2.17956713e+09 -4.49639308e+04  1.06211136e+09\n",
      " -1.48000155e+09  8.53551695e+08  2.17956713e+09  1.06211136e+09\n",
      " -1.38235752e+09  8.53551694e+08  8.53551694e+08  1.06211136e+09\n",
      "  2.17956713e+09  8.53551694e+08  2.84337312e+04  4.85264623e+09\n",
      "  2.17956713e+09  8.53551695e+08  1.06211136e+09 -2.05559318e+09\n",
      "  8.53551695e+08 -5.71475945e+03  1.06211136e+09  1.06211136e+09\n",
      "  1.06211136e+09  8.53551694e+08 -1.14874477e+04  1.06211136e+09\n",
      "  1.06211136e+09 -1.48000155e+09 -2.97125706e+09 -1.48000155e+09\n",
      " -1.48000155e+09 -1.48000155e+09 -1.48000155e+09  1.06211136e+09\n",
      " -1.48000155e+09 -1.48000155e+09 -1.48000155e+09  3.81593577e+03\n",
      "  1.06211136e+09  1.06211136e+09  4.85264623e+09  8.53551695e+08\n",
      " -2.97125706e+09  4.85264623e+09  1.06211136e+09 -1.38235752e+09\n",
      "  1.06211136e+09  1.06211136e+09  1.06211136e+09 -9.80366011e+08\n",
      " -1.48000155e+09  2.17956713e+09  1.06211136e+09  4.85264623e+09\n",
      " -1.48000155e+09  8.53551694e+08  1.06211136e+09 -9.80366011e+08\n",
      " -1.48000155e+09  8.53551695e+08 -1.48000155e+09  1.06211136e+09\n",
      "  8.53551694e+08 -1.80771127e+02  1.06211136e+09  1.06211136e+09\n",
      "  1.06211136e+09 -1.48000155e+09  1.06211136e+09  8.53551694e+08\n",
      " -1.48000155e+09 -1.48000155e+09  3.59633787e+09 -1.48000155e+09\n",
      "  1.06211136e+09 -1.48000155e+09  4.85264623e+09  4.85264623e+09\n",
      " -2.05559318e+09 -1.48000155e+09  1.06211136e+09 -1.38235752e+09\n",
      " -1.48000155e+09  2.17956713e+09  3.59633787e+09 -1.48000155e+09\n",
      " -4.54055523e+01  1.06211136e+09  1.06211136e+09  8.53551694e+08\n",
      " -1.38235752e+09 -1.48000155e+09  1.06211136e+09 -1.48000155e+09\n",
      " -1.30277730e+01 -1.38235752e+09  1.06211136e+09 -2.05559318e+09\n",
      "  1.06211136e+09 -1.48000155e+09 -1.48000155e+09  1.06211136e+09\n",
      " -1.48000155e+09 -1.38235752e+09 -9.80366011e+08 -1.48000155e+09\n",
      "  8.53551694e+08 -9.80366011e+08  4.85264623e+09 -1.48000155e+09\n",
      " -1.38235752e+09 -1.48000155e+09 -2.97125706e+09 -1.48000155e+09\n",
      "  1.06211136e+09 -1.48000155e+09 -1.48000155e+09 -2.97125706e+09\n",
      " -5.99319103e+08  1.06211136e+09 -1.48000155e+09 -9.80366011e+08\n",
      " -1.48000155e+09  8.53551695e+08  1.06211136e+09  8.53551694e+08\n",
      "  1.06211136e+09  1.06211136e+09  3.62267147e+08 -1.48000155e+09\n",
      " -1.48000155e+09 -1.48000155e+09 -2.05559318e+09 -1.48000155e+09\n",
      " -1.48000155e+09 -1.48000155e+09  1.06211136e+09  1.06211136e+09\n",
      "  8.53551695e+08  1.06211136e+09  1.06211136e+09  8.53551695e+08\n",
      " -1.48000155e+09  1.06211136e+09  1.06211136e+09 -1.48000155e+09\n",
      " -2.97125706e+09 -1.48000155e+09  1.06211136e+09  1.06211136e+09\n",
      "  1.06211136e+09  2.30994718e-02 -1.48000155e+09 -1.48000155e+09\n",
      "  1.06211136e+09 -1.48000155e+09  1.06211136e+09 -1.48000155e+09\n",
      "  1.06211136e+09  8.53551694e+08 -1.48000155e+09 -1.48000155e+09\n",
      " -2.97125706e+09 -1.48000155e+09 -1.48000155e+09 -1.48000155e+09\n",
      " -1.48000155e+09 -1.48000155e+09  8.53551695e+08 -1.48000155e+09\n",
      "  1.06211136e+09  8.53551695e+08 -1.48000155e+09 -1.48000155e+09\n",
      " -1.48000155e+09 -1.48000155e+09  1.06211136e+09 -1.48000155e+09\n",
      " -1.48000155e+09 -8.15391541e-05 -8.43284639e+08  5.10075506e+08\n",
      "  5.10075505e+08  5.10075506e+08  5.10075506e+08  5.10075506e+08\n",
      "  7.44476956e+08  5.10075505e+08 -2.02673366e+08  3.05175781e-05\n",
      " -2.02673366e+08 -3.81469727e-06 -8.43284639e+08 -2.02673367e+08\n",
      " -5.91203559e+08 -2.02673367e+08  5.10075507e+08 -2.02673366e+08\n",
      " -2.02673366e+08 -4.81257525e+09  5.10075506e+08 -4.67915763e+08\n",
      " -4.81257525e+09 -3.52175675e+09  5.10075506e+08  5.96046448e-08\n",
      " -2.02673367e+08 -2.02673367e+08  5.10075506e+08 -2.02673366e+08\n",
      " -2.02673366e+08  5.10075506e+08  5.10075505e+08  5.10075506e+08\n",
      " -2.02673366e+08 -2.02673366e+08 -2.02673366e+08 -2.02673366e+08\n",
      " -3.53469447e+09  5.10075505e+08  5.10075505e+08  5.10075505e+08\n",
      "  5.10075506e+08  7.44476955e+08  5.10075506e+08 -2.02673366e+08\n",
      "  5.10075505e+08  5.10075506e+08 -3.99486453e-08  6.06842150e-08\n",
      " -1.03524602e+09  5.10075506e+08  1.21775265e+09 -8.43284639e+08\n",
      " -1.42883891e-08 -3.64144087e+09  5.10075507e+08 -2.02673367e+08\n",
      " -2.02673366e+08 -4.67915762e+08 -2.02673366e+08 -5.91203558e+08\n",
      " -5.91203559e+08 -2.02673366e+08 -7.06733855e+08  1.21775265e+09\n",
      "  5.10075505e+08 -3.70606945e+08  7.44476955e+08 -2.02673366e+08\n",
      "  9.50239216e-08  5.10075505e+08  5.10075506e+08 -2.02673366e+08\n",
      " -7.06733855e+08 -7.06733855e+08  5.10075506e+08  1.21775265e+09\n",
      "  5.10075505e+08  5.10075506e+08 -4.67915763e+08  7.99281462e-08\n",
      " -3.53469447e+09 -5.91203559e+08 -2.02673366e+08 -3.64144087e+09\n",
      "  5.10075506e+08 -2.02673366e+08  7.44476955e+08 -2.02673366e+08\n",
      " -4.67915762e+08 -3.52175675e+09  5.10075505e+08 -4.67915763e+08\n",
      " -8.16351257e-11 -1.47401757e+09 -2.02673366e+08  5.10075506e+08\n",
      " -2.02673366e+08 -3.52175675e+09 -2.02673367e+08 -4.81257525e+09\n",
      " -2.02673366e+08 -2.02673366e+08 -5.91203558e+08  5.10075505e+08\n",
      " -7.06733855e+08  5.10075506e+08 -2.02673367e+08 -2.02673366e+08\n",
      " -2.02673367e+08  5.10075506e+08  7.44476956e+08  5.10075506e+08\n",
      " -2.02673366e+08 -3.52175675e+09  7.44476955e+08 -2.02673367e+08\n",
      "  5.10075506e+08  5.10075506e+08 -5.91203558e+08 -2.02673366e+08\n",
      "  5.10075506e+08  5.10075506e+08  5.10075506e+08  5.10075505e+08\n",
      " -2.02673366e+08 -3.64144087e+09  5.10075505e+08 -2.02673367e+08\n",
      " -7.06733855e+08 -2.02673367e+08  5.10075505e+08  7.44476956e+08\n",
      "  5.13478149e-16 -1.47401757e+09  5.10075505e+08 -2.02673366e+08\n",
      " -4.67915762e+08 -2.02673367e+08 -2.02673367e+08 -2.02673367e+08\n",
      " -2.02673366e+08 -3.52175675e+09  5.10075506e+08  1.21775265e+09\n",
      " -4.81257525e+09  4.97170848e+08  5.10075506e+08  5.10075506e+08\n",
      "  2.22044605e-16 -8.43284639e+08  1.21775265e+09  5.10075506e+08\n",
      " -5.91203558e+08  5.10075505e+08  5.10075505e+08  5.10075506e+08\n",
      "  5.10075505e+08  5.10075505e+08 -1.47401757e+09 -2.02673366e+08\n",
      "  1.21775265e+09 -8.43284639e+08  5.10075507e+08 -4.81257525e+09\n",
      " -4.67915763e+08 -2.02673367e+08 -4.16333634e-16  7.44476956e+08\n",
      "  5.10075505e+08 -3.53469447e+09 -2.02673367e+08 -3.64144087e+09\n",
      " -2.02673367e+08 -2.02673366e+08 -2.02673366e+08 -2.02673366e+08\n",
      "  5.10075506e+08 -2.02673366e+08 -2.02673366e+08 -2.02673366e+08\n",
      "  5.10075506e+08 -3.53469447e+09 -1.47401757e+09 -8.43284639e+08\n",
      " -3.64144087e+09 -4.81257525e+09 -1.47401757e+09 -3.53469447e+09\n",
      " -5.91203558e+08  7.44476956e+08  5.10075506e+08  9.71445147e-17\n",
      " -7.06733855e+08  5.10075506e+08 -2.02673366e+08  5.10075506e+08\n",
      " -5.91203559e+08  1.21775265e+09  5.10075506e+08 -2.02673367e+08\n",
      " -4.67915763e+08 -7.06733855e+08 -2.02673366e+08 -4.67915763e+08\n",
      " -2.02673367e+08  5.10075506e+08  1.11022302e-16  5.10075506e+08\n",
      "  5.10075505e+08  5.10075506e+08 -3.53469447e+09 -3.53469447e+09\n",
      " -2.02673367e+08 -1.66533454e-16  7.44476956e+08  5.10075505e+08\n",
      " -2.02673367e+08 -2.02673367e+08 -3.52175675e+09 -2.02673366e+08\n",
      "  5.10075506e+08 -1.66533454e-16 -1.47401757e+09 -1.47401757e+09\n",
      " -4.81257525e+09 -2.02673366e+08 -3.53469447e+09 -5.91203558e+08\n",
      " -2.02673367e+08  1.21775265e+09 -3.52175675e+09 -2.02673367e+08\n",
      "  5.10075505e+08  5.10075505e+08 -5.91203558e+08 -2.02673366e+08\n",
      "  7.44476956e+08 -2.02673367e+08  7.44476955e+08 -4.67915763e+08\n",
      "  5.55111512e-16 -7.06733855e+08 -4.81257525e+09  5.10075506e+08\n",
      " -2.02673367e+08 -2.02673366e+08  7.44476955e+08 -3.52175675e+09\n",
      " -2.02673366e+08  5.10075506e+08 -5.91203559e+08 -2.02673366e+08\n",
      " -2.02673366e+08 -7.06733855e+08 -1.47401757e+09 -2.02673366e+08\n",
      "  5.10075506e+08 -3.64144087e+09  5.10075505e+08 -2.02673367e+08\n",
      " -2.02673366e+08 -3.64144087e+09  0.00000000e+00 -2.02673366e+08\n",
      " -7.06733855e+08 -2.02673367e+08 -4.67915762e+08  5.10075507e+08\n",
      "  5.10075505e+08  5.10075506e+08  5.10075506e+08 -2.02673367e+08\n",
      " -2.02673366e+08 -3.53469447e+09 -2.02673367e+08 -4.81257525e+09\n",
      " -2.02673368e+08 -2.02673366e+08 -2.02673366e+08  5.10075506e+08\n",
      "  5.10075506e+08 -4.67915762e+08  5.10075506e+08  7.44476956e+08\n",
      " -8.43284638e+08 -2.02673367e+08  5.10075506e+08  7.44476955e+08\n",
      "  5.10075506e+08 -2.02673366e+08 -3.64144087e+09  0.00000000e+00\n",
      "  5.10075506e+08  5.10075506e+08 -2.02673367e+08 -2.02673366e+08\n",
      " -2.02673367e+08  5.10075506e+08 -2.02673366e+08 -2.02673367e+08\n",
      "  7.44476956e+08 -2.02673366e+08  5.10075505e+08  0.00000000e+00\n",
      " -2.02673366e+08  5.10075506e+08 -2.02673367e+08 -3.64144087e+09\n",
      " -2.02673366e+08 -2.02673367e+08 -2.02673366e+08 -2.02673366e+08\n",
      " -2.02673366e+08 -8.43284639e+08 -2.02673367e+08  5.10075506e+08\n",
      " -2.02673366e+08 -2.02673367e+08 -2.02673367e+08 -2.02673367e+08\n",
      "  5.10075507e+08 -2.02673367e+08]\n"
     ]
    }
   ],
   "source": [
    "#To retrieve the intercept:\n",
    "print(regressor.intercept_)\n",
    "#For retrieving the slope:\n",
    "print(regressor.coef_)"
   ]
  },
  {
   "cell_type": "code",
   "execution_count": 23,
   "metadata": {},
   "outputs": [],
   "source": [
    "y_pred = regressor.predict(X_test)"
   ]
  },
  {
   "cell_type": "code",
   "execution_count": 24,
   "metadata": {},
   "outputs": [
    {
     "name": "stdout",
     "output_type": "stream",
     "text": [
      "Mean Absolute Error: 60110256.34250515\n",
      "Mean Squared Error: 1.1583766338426205e+17\n",
      "Root Mean Squared Error: 340349325.5234422\n"
     ]
    }
   ],
   "source": [
    "print('Mean Absolute Error:', metrics.mean_absolute_error(y_test, y_pred))  \n",
    "print('Mean Squared Error:', metrics.mean_squared_error(y_test, y_pred))  \n",
    "print('Root Mean Squared Error:', np.sqrt(metrics.mean_squared_error(y_test, y_pred)))"
   ]
  },
  {
   "cell_type": "markdown",
   "metadata": {},
   "source": [
    "# Random forest Mode(ML)"
   ]
  },
  {
   "cell_type": "code",
   "execution_count": 25,
   "metadata": {},
   "outputs": [],
   "source": [
    "from sklearn.ensemble import RandomForestClassifier\n",
    "\n",
    "model=RandomForestClassifier(n_estimators=200)\n",
    "\n",
    "model.fit(X_train,y_train)\n",
    "\n",
    "predictions=model.predict(X_test)"
   ]
  },
  {
   "cell_type": "code",
   "execution_count": 26,
   "metadata": {},
   "outputs": [
    {
     "name": "stdout",
     "output_type": "stream",
     "text": [
      "Accuracy: 0.9629120879120879\n"
     ]
    }
   ],
   "source": [
    "print(\"Accuracy:\",metrics.accuracy_score(y_test, predictions))"
   ]
  },
  {
   "cell_type": "code",
   "execution_count": 27,
   "metadata": {},
   "outputs": [
    {
     "name": "stdout",
     "output_type": "stream",
     "text": [
      "[[325  20]\n",
      " [  7 376]]\n",
      "              precision    recall  f1-score   support\n",
      "\n",
      "           0       0.98      0.94      0.96       345\n",
      "           1       0.95      0.98      0.97       383\n",
      "\n",
      "    accuracy                           0.96       728\n",
      "   macro avg       0.96      0.96      0.96       728\n",
      "weighted avg       0.96      0.96      0.96       728\n",
      "\n",
      "0.9629120879120879\n"
     ]
    }
   ],
   "source": [
    "confus_matrix=confusion_matrix(y_test,predictions)\n",
    "print(confus_matrix)\n",
    "print(classification_report(y_test,predictions))\n",
    "print(accuracy_score(y_test, predictions))"
   ]
  },
  {
   "cell_type": "code",
   "execution_count": 28,
   "metadata": {},
   "outputs": [
    {
     "name": "stdout",
     "output_type": "stream",
     "text": [
      "Test Data Accuracy: 0.9629\n"
     ]
    },
    {
     "data": {
      "image/png": "[encoded data removed]",
      "text/plain": [
       "<Figure size 756x540 with 2 Axes>"
      ]
     },
     "metadata": {
      "needs_background": "light"
     },
     "output_type": "display_data"
    }
   ],
   "source": [
    "confus_matrix = confusion_matrix(y_test, predictions)\n",
    "datafram_confus_matrix = pd.DataFrame(confus_matrix, index = (0.5, 1.5), columns = (0.5, 1.5))\n",
    "plt.figure(figsize = (10.5,7.5))\n",
    "sns.set(font_scale=1.4)\n",
    "sns.heatmap(datafram_confus_matrix, annot=True, fmt='g')\n",
    "print(\"Test Data Accuracy: %0.4f\" % accuracy_score(y_test, predictions))"
   ]
  },
  {
   "cell_type": "code",
   "execution_count": null,
   "metadata": {},
   "outputs": [],
   "source": []
  },
  {
   "cell_type": "code",
   "execution_count": null,
   "metadata": {},
   "outputs": [],
   "source": []
  }
 ],
 "metadata": {
  "kernelspec": {
   "display_name": "Python 3",
   "language": "python",
   "name": "python3"
  },
  "language_info": {
   "codemirror_mode": {
    "name": "ipython",
    "version": 3
   },
   "file_extension": ".py",
   "mimetype": "text/x-python",
   "name": "python",
   "nbconvert_exporter": "python",
   "pygments_lexer": "ipython3",
   "version": "3.7.4"
  }
 },
 "nbformat": 4,
 "nbformat_minor": 2
}
