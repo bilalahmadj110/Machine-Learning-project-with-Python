{
 "cells": [
  {
   "cell_type": "markdown",
   "metadata": {},
   "source": [
    "# Natural Language Processing and Text Mining"
   ]
  },
  {
   "cell_type": "markdown",
   "metadata": {},
   "source": [
    "# Importing Tensorflow Packages(Libraries)"
   ]
  },
  {
   "cell_type": "code",
   "execution_count": 1,
   "metadata": {},
   "outputs": [],
   "source": [
    "import tensorflow as tf\n",
    "from tensorflow import keras\n",
    "from tensorflow.keras import Sequential\n",
    "from tensorflow.keras.layers import Flatten, Dense, Dropout, BatchNormalization\n",
    "from tensorflow.keras.layers import Conv1D, MaxPool1D\n",
    "from tensorflow.keras.optimizers import Adam\n",
    "import warnings\n",
    "warnings.filterwarnings('ignore')"
   ]
  },
  {
   "cell_type": "markdown",
   "metadata": {},
   "source": [
    "# Importing Pandas "
   ]
  },
  {
   "cell_type": "code",
   "execution_count": 2,
   "metadata": {},
   "outputs": [],
   "source": [
    "import pandas as pd\n",
    "import numpy as np\n",
    "import matplotlib.pyplot as plt\n",
    "%matplotlib inline\n",
    "from sklearn.preprocessing import StandardScaler\n",
    "import seaborn as sns\n",
    "from sklearn import metrics\n",
    "from sklearn.metrics import classification_report, confusion_matrix, accuracy_score"
   ]
  },
  {
   "cell_type": "markdown",
   "metadata": {},
   "source": [
    "# NLP Libraries"
   ]
  },
  {
   "cell_type": "code",
   "execution_count": 3,
   "metadata": {},
   "outputs": [
    {
     "name": "stderr",
     "output_type": "stream",
     "text": [
      "[nltk_data] Downloading package stopwords to\n",
      "[nltk_data]     C:\\Users\\ZuBaiR\\AppData\\Roaming\\nltk_data...\n",
      "[nltk_data]   Unzipping corpora\\stopwords.zip.\n"
     ]
    }
   ],
   "source": [
    "import nltk\n",
    "import re\n",
    "nltk.download('stopwords')\n",
    "import pickle\n",
    "from nltk.corpus import stopwords\n",
    "from nltk.tokenize import word_tokenize\n",
    "from nltk.stem import WordNetLemmatizer\n",
    "import warnings\n",
    "warnings.filterwarnings('ignore')"
   ]
  },
  {
   "cell_type": "markdown",
   "metadata": {},
   "source": [
    "# Importing Dataset and dataset attribute information and data types"
   ]
  },
  {
   "cell_type": "code",
   "execution_count": 6,
   "metadata": {},
   "outputs": [],
   "source": [
    "dataset=pd.read_csv('dataset.sample.csv',encoding='utf-8' )"
   ]
  },
  {
   "cell_type": "code",
   "execution_count": 11,
   "metadata": {},
   "outputs": [
    {
     "data": {
      "text/html": [
       "<div>\n",
       "<style scoped>\n",
       "    .dataframe tbody tr th:only-of-type {\n",
       "        vertical-align: middle;\n",
       "    }\n",
       "\n",
       "    .dataframe tbody tr th {\n",
       "        vertical-align: top;\n",
       "    }\n",
       "\n",
       "    .dataframe thead th {\n",
       "        text-align: right;\n",
       "    }\n",
       "</style>\n",
       "<table border=\"1\" class=\"dataframe\">\n",
       "  <thead>\n",
       "    <tr style=\"text-align: right;\">\n",
       "      <th></th>\n",
       "      <th>DISCLAIMER:</th>\n",
       "      <th>Unnamed: 1</th>\n",
       "      <th>Unnamed: 2</th>\n",
       "      <th>Unnamed: 3</th>\n",
       "      <th>Unnamed: 4</th>\n",
       "    </tr>\n",
       "  </thead>\n",
       "  <tbody>\n",
       "    <tr>\n",
       "      <td>35</td>\n",
       "      <td>NaN</td>\n",
       "      <td>NaN</td>\n",
       "      <td>NaN</td>\n",
       "      <td>NaN</td>\n",
       "      <td>NaN</td>\n",
       "    </tr>\n",
       "    <tr>\n",
       "      <td>105</td>\n",
       "      <td>NaN</td>\n",
       "      <td>NaN</td>\n",
       "      <td>NaN</td>\n",
       "      <td>NaN</td>\n",
       "      <td>NaN</td>\n",
       "    </tr>\n",
       "    <tr>\n",
       "      <td>111</td>\n",
       "      <td>NaN</td>\n",
       "      <td>NaN</td>\n",
       "      <td>NaN</td>\n",
       "      <td>NaN</td>\n",
       "      <td>NaN</td>\n",
       "    </tr>\n",
       "    <tr>\n",
       "      <td>77</td>\n",
       "      <td>NaN</td>\n",
       "      <td>??? ?????</td>\n",
       "      <td>NaN</td>\n",
       "      <td>NaN</td>\n",
       "      <td>NaN</td>\n",
       "    </tr>\n",
       "    <tr>\n",
       "      <td>155</td>\n",
       "      <td>NaN</td>\n",
       "      <td>NaN</td>\n",
       "      <td>NaN</td>\n",
       "      <td>NaN</td>\n",
       "      <td>NaN</td>\n",
       "    </tr>\n",
       "    <tr>\n",
       "      <td>60</td>\n",
       "      <td>NaN</td>\n",
       "      <td>NaN</td>\n",
       "      <td>NaN</td>\n",
       "      <td>NaN</td>\n",
       "      <td>NaN</td>\n",
       "    </tr>\n",
       "    <tr>\n",
       "      <td>16</td>\n",
       "      <td>NaN</td>\n",
       "      <td>????? ???????</td>\n",
       "      <td>NaN</td>\n",
       "      <td>NaN</td>\n",
       "      <td>NaN</td>\n",
       "    </tr>\n",
       "    <tr>\n",
       "      <td>99</td>\n",
       "      <td>NaN</td>\n",
       "      <td>NaN</td>\n",
       "      <td>NaN</td>\n",
       "      <td>NaN</td>\n",
       "      <td>NaN</td>\n",
       "    </tr>\n",
       "    <tr>\n",
       "      <td>86</td>\n",
       "      <td>NaN</td>\n",
       "      <td>NaN</td>\n",
       "      <td>NaN</td>\n",
       "      <td>NaN</td>\n",
       "      <td>NaN</td>\n",
       "    </tr>\n",
       "    <tr>\n",
       "      <td>10</td>\n",
       "      <td>Rowdah 96</td>\n",
       "      <td>7/16/2019</td>\n",
       "      <td>7/16/2019</td>\n",
       "      <td>?????? ????? .</td>\n",
       "      <td>NaN</td>\n",
       "    </tr>\n",
       "    <tr>\n",
       "      <td>66</td>\n",
       "      <td>NaN</td>\n",
       "      <td>NaN</td>\n",
       "      <td>NaN</td>\n",
       "      <td>NaN</td>\n",
       "      <td>NaN</td>\n",
       "    </tr>\n",
       "    <tr>\n",
       "      <td>116</td>\n",
       "      <td>NaN</td>\n",
       "      <td>NaN</td>\n",
       "      <td>NaN</td>\n",
       "      <td>NaN</td>\n",
       "      <td>NaN</td>\n",
       "    </tr>\n",
       "    <tr>\n",
       "      <td>29</td>\n",
       "      <td>NaN</td>\n",
       "      <td>NaN</td>\n",
       "      <td>NaN</td>\n",
       "      <td>NaN</td>\n",
       "      <td>NaN</td>\n",
       "    </tr>\n",
       "    <tr>\n",
       "      <td>149</td>\n",
       "      <td>sulthan 300</td>\n",
       "      <td>7/8/2019</td>\n",
       "      <td>7/8/2019</td>\n",
       "      <td>NaN</td>\n",
       "      <td>????? ???????</td>\n",
       "    </tr>\n",
       "    <tr>\n",
       "      <td>150</td>\n",
       "      <td>???? ?? ????</td>\n",
       "      <td>7/8/2019</td>\n",
       "      <td>7/8/2019</td>\n",
       "      <td>NaN</td>\n",
       "      <td>????? ???????</td>\n",
       "    </tr>\n",
       "  </tbody>\n",
       "</table>\n",
       "</div>"
      ],
      "text/plain": [
       "      DISCLAIMER:     Unnamed: 1 Unnamed: 2      Unnamed: 3     Unnamed: 4\n",
       "35            NaN            NaN        NaN             NaN            NaN\n",
       "105           NaN            NaN        NaN             NaN            NaN\n",
       "111           NaN            NaN        NaN             NaN            NaN\n",
       "77            NaN      ??? ?????        NaN             NaN            NaN\n",
       "155           NaN            NaN        NaN             NaN            NaN\n",
       "60            NaN            NaN        NaN             NaN            NaN\n",
       "16            NaN  ????? ???????        NaN             NaN            NaN\n",
       "99            NaN            NaN        NaN             NaN            NaN\n",
       "86            NaN            NaN        NaN             NaN            NaN\n",
       "10      Rowdah 96      7/16/2019  7/16/2019  ?????? ????? .            NaN\n",
       "66            NaN            NaN        NaN             NaN            NaN\n",
       "116           NaN            NaN        NaN             NaN            NaN\n",
       "29            NaN            NaN        NaN             NaN            NaN\n",
       "149   sulthan 300       7/8/2019   7/8/2019             NaN  ????? ???????\n",
       "150  ???? ?? ????       7/8/2019   7/8/2019             NaN  ????? ???????"
      ]
     },
     "execution_count": 11,
     "metadata": {},
     "output_type": "execute_result"
    }
   ],
   "source": [
    "dataset.sample(15)\n"
   ]
  },
  {
   "cell_type": "code",
   "execution_count": 14,
   "metadata": {},
   "outputs": [
    {
     "data": {
      "text/html": [
       "<div>\n",
       "<style scoped>\n",
       "    .dataframe tbody tr th:only-of-type {\n",
       "        vertical-align: middle;\n",
       "    }\n",
       "\n",
       "    .dataframe tbody tr th {\n",
       "        vertical-align: top;\n",
       "    }\n",
       "\n",
       "    .dataframe thead th {\n",
       "        text-align: right;\n",
       "    }\n",
       "</style>\n",
       "<table border=\"1\" class=\"dataframe\">\n",
       "  <thead>\n",
       "    <tr style=\"text-align: right;\">\n",
       "      <th></th>\n",
       "      <th>DISCLAIMER:</th>\n",
       "      <th>Unnamed: 1</th>\n",
       "      <th>Unnamed: 2</th>\n",
       "      <th>Unnamed: 3</th>\n",
       "      <th>Unnamed: 4</th>\n",
       "    </tr>\n",
       "  </thead>\n",
       "  <tbody>\n",
       "    <tr>\n",
       "      <td>4</td>\n",
       "      <td>This email and any files transmitted with it m...</td>\n",
       "      <td>?????</td>\n",
       "      <td>NaN</td>\n",
       "      <td>NaN</td>\n",
       "      <td>NaN</td>\n",
       "    </tr>\n",
       "    <tr>\n",
       "      <td>5</td>\n",
       "      <td>sugar plum</td>\n",
       "      <td>7/16/2019</td>\n",
       "      <td>7/16/2019</td>\n",
       "      <td>To whom it may  concern,</td>\n",
       "      <td>NaN</td>\n",
       "    </tr>\n",
       "    <tr>\n",
       "      <td>9</td>\n",
       "      <td>I was applied for a  clearance last month and ...</td>\n",
       "      <td>???????.?????</td>\n",
       "      <td>NaN</td>\n",
       "      <td>NaN</td>\n",
       "      <td>NaN</td>\n",
       "    </tr>\n",
       "    <tr>\n",
       "      <td>10</td>\n",
       "      <td>Rowdah 96</td>\n",
       "      <td>7/16/2019</td>\n",
       "      <td>7/16/2019</td>\n",
       "      <td>?????? ????? .</td>\n",
       "      <td>NaN</td>\n",
       "    </tr>\n",
       "    <tr>\n",
       "      <td>17</td>\n",
       "      <td>.DCD Operation</td>\n",
       "      <td>7/15/2019</td>\n",
       "      <td>7/15/2019</td>\n",
       "      <td></td>\n",
       "      <td>NaN</td>\n",
       "    </tr>\n",
       "    <tr>\n",
       "      <td>30</td>\n",
       "      <td>This email and any files transmitted with it m...</td>\n",
       "      <td>?????</td>\n",
       "      <td>NaN</td>\n",
       "      <td>NaN</td>\n",
       "      <td>NaN</td>\n",
       "    </tr>\n",
       "    <tr>\n",
       "      <td>31</td>\n",
       "      <td>Zayed Fares</td>\n",
       "      <td>7/15/2019</td>\n",
       "      <td>7/15/2019</td>\n",
       "      <td>NaN</td>\n",
       "      <td>NaN</td>\n",
       "    </tr>\n",
       "    <tr>\n",
       "      <td>33</td>\n",
       "      <td>.DCD Operation</td>\n",
       "      <td>7/15/2019</td>\n",
       "      <td>7/15/2019</td>\n",
       "      <td></td>\n",
       "      <td>NaN</td>\n",
       "    </tr>\n",
       "    <tr>\n",
       "      <td>46</td>\n",
       "      <td>This email and any files transmitted with it m...</td>\n",
       "      <td>???</td>\n",
       "      <td>NaN</td>\n",
       "      <td>NaN</td>\n",
       "      <td>NaN</td>\n",
       "    </tr>\n",
       "    <tr>\n",
       "      <td>47</td>\n",
       "      <td>usman khan</td>\n",
       "      <td>7/15/2019</td>\n",
       "      <td>7/15/2019</td>\n",
       "      <td>Hello</td>\n",
       "      <td>NaN</td>\n",
       "    </tr>\n",
       "    <tr>\n",
       "      <td>49</td>\n",
       "      <td>--</td>\n",
       "      <td>?????</td>\n",
       "      <td>NaN</td>\n",
       "      <td>NaN</td>\n",
       "      <td>NaN</td>\n",
       "    </tr>\n",
       "    <tr>\n",
       "      <td>50</td>\n",
       "      <td>Marwa Hussein</td>\n",
       "      <td>7/15/2019</td>\n",
       "      <td>7/15/2019</td>\n",
       "      <td>NaN</td>\n",
       "      <td>NaN</td>\n",
       "    </tr>\n",
       "    <tr>\n",
       "      <td>78</td>\n",
       "      <td>ping salon</td>\n",
       "      <td>7/15/2019</td>\n",
       "      <td>7/15/2019</td>\n",
       "      <td>NaN</td>\n",
       "      <td>NaN</td>\n",
       "    </tr>\n",
       "    <tr>\n",
       "      <td>82</td>\n",
       "      <td>.DCD Operation</td>\n",
       "      <td>7/15/2019</td>\n",
       "      <td>7/15/2019</td>\n",
       "      <td></td>\n",
       "      <td>NaN</td>\n",
       "    </tr>\n",
       "    <tr>\n",
       "      <td>114</td>\n",
       "      <td>Laila Salim Hassan Juma</td>\n",
       "      <td>7/9/2019</td>\n",
       "      <td>7/9/2019</td>\n",
       "      <td>NaN</td>\n",
       "      <td>NaN</td>\n",
       "    </tr>\n",
       "    <tr>\n",
       "      <td>146</td>\n",
       "      <td>??? ????? ????? ???? ?? ??? ??? ??? ????? ?? ?...</td>\n",
       "      <td>???????.?????</td>\n",
       "      <td>NaN</td>\n",
       "      <td>NaN</td>\n",
       "      <td>NaN</td>\n",
       "    </tr>\n",
       "    <tr>\n",
       "      <td>147</td>\n",
       "      <td>ABBAS ASIF</td>\n",
       "      <td>7/8/2019</td>\n",
       "      <td>7/8/2019</td>\n",
       "      <td>The taxi and the van is blocking the bus from ...</td>\n",
       "      <td>NaN</td>\n",
       "    </tr>\n",
       "    <tr>\n",
       "      <td>149</td>\n",
       "      <td>sulthan 300</td>\n",
       "      <td>7/8/2019</td>\n",
       "      <td>7/8/2019</td>\n",
       "      <td>NaN</td>\n",
       "      <td>????? ???????</td>\n",
       "    </tr>\n",
       "    <tr>\n",
       "      <td>150</td>\n",
       "      <td>???? ?? ????</td>\n",
       "      <td>7/8/2019</td>\n",
       "      <td>7/8/2019</td>\n",
       "      <td>NaN</td>\n",
       "      <td>????? ???????</td>\n",
       "    </tr>\n",
       "    <tr>\n",
       "      <td>151</td>\n",
       "      <td>3asmee</td>\n",
       "      <td>7/8/2019</td>\n",
       "      <td>7/8/2019</td>\n",
       "      <td>NaN</td>\n",
       "      <td>NaN</td>\n",
       "    </tr>\n",
       "  </tbody>\n",
       "</table>\n",
       "</div>"
      ],
      "text/plain": [
       "                                           DISCLAIMER:     Unnamed: 1  \\\n",
       "4    This email and any files transmitted with it m...          ?????   \n",
       "5                                           sugar plum      7/16/2019   \n",
       "9    I was applied for a  clearance last month and ...  ???????.?????   \n",
       "10                                           Rowdah 96      7/16/2019   \n",
       "17                                      .DCD Operation      7/15/2019   \n",
       "30   This email and any files transmitted with it m...          ?????   \n",
       "31                                         Zayed Fares      7/15/2019   \n",
       "33                                      .DCD Operation      7/15/2019   \n",
       "46   This email and any files transmitted with it m...            ???   \n",
       "47                                          usman khan      7/15/2019   \n",
       "49                                                  --          ?????   \n",
       "50                                       Marwa Hussein      7/15/2019   \n",
       "78                                          ping salon      7/15/2019   \n",
       "82                                      .DCD Operation      7/15/2019   \n",
       "114                            Laila Salim Hassan Juma       7/9/2019   \n",
       "146  ??? ????? ????? ???? ?? ??? ??? ??? ????? ?? ?...  ???????.?????   \n",
       "147                                         ABBAS ASIF       7/8/2019   \n",
       "149                                        sulthan 300       7/8/2019   \n",
       "150                                       ???? ?? ????       7/8/2019   \n",
       "151                                             3asmee       7/8/2019   \n",
       "\n",
       "    Unnamed: 2                                         Unnamed: 3  \\\n",
       "4          NaN                                                NaN   \n",
       "5    7/16/2019                          To whom it may  concern,    \n",
       "9          NaN                                                NaN   \n",
       "10   7/16/2019                                     ?????? ????? .   \n",
       "17   7/15/2019                                                      \n",
       "30         NaN                                                NaN   \n",
       "31   7/15/2019                                                NaN   \n",
       "33   7/15/2019                                                      \n",
       "46         NaN                                                NaN   \n",
       "47   7/15/2019                                             Hello    \n",
       "49         NaN                                                NaN   \n",
       "50   7/15/2019                                                NaN   \n",
       "78   7/15/2019                                                NaN   \n",
       "82   7/15/2019                                                      \n",
       "114   7/9/2019                                                NaN   \n",
       "146        NaN                                                NaN   \n",
       "147   7/8/2019  The taxi and the van is blocking the bus from ...   \n",
       "149   7/8/2019                                                NaN   \n",
       "150   7/8/2019                                                NaN   \n",
       "151   7/8/2019                                                NaN   \n",
       "\n",
       "        Unnamed: 4  \n",
       "4              NaN  \n",
       "5              NaN  \n",
       "9              NaN  \n",
       "10             NaN  \n",
       "17             NaN  \n",
       "30             NaN  \n",
       "31             NaN  \n",
       "33             NaN  \n",
       "46             NaN  \n",
       "47             NaN  \n",
       "49             NaN  \n",
       "50             NaN  \n",
       "78             NaN  \n",
       "82             NaN  \n",
       "114            NaN  \n",
       "146            NaN  \n",
       "147            NaN  \n",
       "149  ????? ???????  \n",
       "150  ????? ???????  \n",
       "151            NaN  "
      ]
     },
     "execution_count": 14,
     "metadata": {},
     "output_type": "execute_result"
    }
   ],
   "source": [
    "dataset.dropna(thresh=2)"
   ]
  },
  {
   "cell_type": "markdown",
   "metadata": {},
   "source": [
    "# Dataset Splitation into X and y (y=Target Variable/dependent variable  & X=predictor/observed variable/ Independent Variable)"
   ]
  },
  {
   "cell_type": "code",
   "execution_count": 6,
   "metadata": {},
   "outputs": [],
   "source": [
    "X=dataset.drop(['Class'], axis=1)\n",
    "y=dataset['Class']"
   ]
  },
  {
   "cell_type": "code",
   "execution_count": 7,
   "metadata": {},
   "outputs": [
    {
     "data": {
      "text/html": [
       "<div>\n",
       "<style scoped>\n",
       "    .dataframe tbody tr th:only-of-type {\n",
       "        vertical-align: middle;\n",
       "    }\n",
       "\n",
       "    .dataframe tbody tr th {\n",
       "        vertical-align: top;\n",
       "    }\n",
       "\n",
       "    .dataframe thead th {\n",
       "        text-align: right;\n",
       "    }\n",
       "</style>\n",
       "<table border=\"1\" class=\"dataframe\">\n",
       "  <thead>\n",
       "    <tr style=\"text-align: right;\">\n",
       "      <th></th>\n",
       "      <th>Text</th>\n",
       "    </tr>\n",
       "  </thead>\n",
       "  <tbody>\n",
       "    <tr>\n",
       "      <td>0</td>\n",
       "      <td>Supply Quality China's EXCLUSIVE dimensions at...</td>\n",
       "    </tr>\n",
       "    <tr>\n",
       "      <td>1</td>\n",
       "      <td>over. SidLet me know. Thx.</td>\n",
       "    </tr>\n",
       "    <tr>\n",
       "      <td>2</td>\n",
       "      <td>Dear Friend,Greetings to you.I wish to accost ...</td>\n",
       "    </tr>\n",
       "    <tr>\n",
       "      <td>3</td>\n",
       "      <td>MR. CHEUNG PUIHANG SENG BANK LTD.DES VOEUX RD....</td>\n",
       "    </tr>\n",
       "    <tr>\n",
       "      <td>4</td>\n",
       "      <td>Not a surprising assessment from Embassy.</td>\n",
       "    </tr>\n",
       "    <tr>\n",
       "      <td>...</td>\n",
       "      <td>...</td>\n",
       "    </tr>\n",
       "    <tr>\n",
       "      <td>11924</td>\n",
       "      <td>Travel well. I'll look forward to hearing your...</td>\n",
       "    </tr>\n",
       "    <tr>\n",
       "      <td>11925</td>\n",
       "      <td>Dear friend, I wish to begin by way of introdu...</td>\n",
       "    </tr>\n",
       "    <tr>\n",
       "      <td>11926</td>\n",
       "      <td>Follow Up Flag: Follow upFlag Status: FlaggedM...</td>\n",
       "    </tr>\n",
       "    <tr>\n",
       "      <td>11927</td>\n",
       "      <td>sbwhoeop B6Saturday January 23 2010 4:09 PMRe:...</td>\n",
       "    </tr>\n",
       "    <tr>\n",
       "      <td>11928</td>\n",
       "      <td>FYI. We are revising call sheet for call to Ka...</td>\n",
       "    </tr>\n",
       "  </tbody>\n",
       "</table>\n",
       "<p>11929 rows × 1 columns</p>\n",
       "</div>"
      ],
      "text/plain": [
       "                                                    Text\n",
       "0      Supply Quality China's EXCLUSIVE dimensions at...\n",
       "1                             over. SidLet me know. Thx.\n",
       "2      Dear Friend,Greetings to you.I wish to accost ...\n",
       "3      MR. CHEUNG PUIHANG SENG BANK LTD.DES VOEUX RD....\n",
       "4              Not a surprising assessment from Embassy.\n",
       "...                                                  ...\n",
       "11924  Travel well. I'll look forward to hearing your...\n",
       "11925  Dear friend, I wish to begin by way of introdu...\n",
       "11926  Follow Up Flag: Follow upFlag Status: FlaggedM...\n",
       "11927  sbwhoeop B6Saturday January 23 2010 4:09 PMRe:...\n",
       "11928  FYI. We are revising call sheet for call to Ka...\n",
       "\n",
       "[11929 rows x 1 columns]"
      ]
     },
     "execution_count": 7,
     "metadata": {},
     "output_type": "execute_result"
    }
   ],
   "source": [
    "X"
   ]
  },
  {
   "cell_type": "code",
   "execution_count": 8,
   "metadata": {},
   "outputs": [],
   "source": [
    "\n",
    "lists = []\n",
    "\n",
    "stemmer = WordNetLemmatizer()\n",
    "\n",
    "for sen in range(0, len(X['Text'])):\n",
    "    # Remove all the special characters\n",
    "    list = re.sub(r'\\W', ' ', str(X['Text'][sen]))\n",
    "    \n",
    "    # remove all single characters\n",
    "    list = re.sub(r'\\s+[a-zA-Z]\\s+', ' ', list)\n",
    "    \n",
    "    # Remove single characters from the start\n",
    "    list = re.sub(r'\\^[a-zA-Z]\\s+', ' ', list) \n",
    "    \n",
    "    # Substituting multiple spaces with single space\n",
    "    list = re.sub(r'\\s+', ' ', list, flags=re.I)\n",
    "    \n",
    "    # Removing prefixed 'b'\n",
    "    list = re.sub(r'^b\\s+', '', list)\n",
    "    \n",
    "    # Converting to Lowercase\n",
    "    list = list.lower()\n",
    "    \n",
    "    # Lemmatization\n",
    "    list = list.split()\n",
    "\n",
    "    list = [stemmer.lemmatize(word) for word in list]\n",
    "    list = ' '.join(list)\n",
    "    \n",
    "    lists.append(list)"
   ]
  },
  {
   "cell_type": "code",
   "execution_count": 9,
   "metadata": {},
   "outputs": [],
   "source": [
    "from sklearn.feature_extraction.text import CountVectorizer\n",
    "vectorizer = CountVectorizer(max_features=1500, min_df=5, max_df=0.7, stop_words=stopwords.words('english'))\n",
    "X = vectorizer.fit_transform(lists).toarray()\n"
   ]
  },
  {
   "cell_type": "code",
   "execution_count": 10,
   "metadata": {},
   "outputs": [
    {
     "data": {
      "text/plain": [
       "array([[0, 1, 0, ..., 0, 0, 0],\n",
       "       [0, 0, 0, ..., 0, 0, 0],\n",
       "       [0, 0, 0, ..., 0, 0, 0],\n",
       "       ...,\n",
       "       [0, 0, 0, ..., 0, 0, 0],\n",
       "       [0, 0, 0, ..., 0, 0, 0],\n",
       "       [0, 0, 0, ..., 0, 0, 0]], dtype=int64)"
      ]
     },
     "execution_count": 10,
     "metadata": {},
     "output_type": "execute_result"
    }
   ],
   "source": [
    "X"
   ]
  },
  {
   "cell_type": "code",
   "execution_count": 11,
   "metadata": {},
   "outputs": [],
   "source": [
    "from sklearn.feature_extraction.text import TfidfTransformer\n",
    "tfidfconverter = TfidfTransformer()\n",
    "X = tfidfconverter.fit_transform(X).toarray()\n"
   ]
  },
  {
   "cell_type": "code",
   "execution_count": 12,
   "metadata": {},
   "outputs": [],
   "source": [
    "from sklearn.feature_extraction.text import TfidfVectorizer\n",
    "tfidfconverter = TfidfVectorizer(max_features=1500, min_df=5, max_df=0.7, stop_words=stopwords.words('english'))\n",
    "X = tfidfconverter.fit_transform(lists).toarray()\n"
   ]
  },
  {
   "cell_type": "code",
   "execution_count": 13,
   "metadata": {},
   "outputs": [
    {
     "data": {
      "text/plain": [
       "array([[0.        , 0.06575546, 0.        , ..., 0.        , 0.        ,\n",
       "        0.        ],\n",
       "       [0.        , 0.        , 0.        , ..., 0.        , 0.        ,\n",
       "        0.        ],\n",
       "       [0.        , 0.        , 0.        , ..., 0.        , 0.        ,\n",
       "        0.        ],\n",
       "       ...,\n",
       "       [0.        , 0.        , 0.        , ..., 0.        , 0.        ,\n",
       "        0.        ],\n",
       "       [0.        , 0.        , 0.        , ..., 0.        , 0.        ,\n",
       "        0.        ],\n",
       "       [0.        , 0.        , 0.        , ..., 0.        , 0.        ,\n",
       "        0.        ]])"
      ]
     },
     "execution_count": 13,
     "metadata": {},
     "output_type": "execute_result"
    }
   ],
   "source": [
    "X\n"
   ]
  },
  {
   "cell_type": "code",
   "execution_count": 14,
   "metadata": {},
   "outputs": [],
   "source": [
    "from sklearn.model_selection import train_test_split\n",
    "X_train, X_test, y_train, y_test = train_test_split(X, y, test_size=0.2, random_state=0)"
   ]
  },
  {
   "cell_type": "code",
   "execution_count": 15,
   "metadata": {},
   "outputs": [],
   "source": [
    "scaler = StandardScaler()\n",
    "X_train = scaler.fit_transform(X_train)\n",
    "X_test = scaler.transform(X_test)"
   ]
  },
  {
   "cell_type": "markdown",
   "metadata": {},
   "source": [
    "# Random Forest (ML Algorithm)"
   ]
  },
  {
   "cell_type": "code",
   "execution_count": 16,
   "metadata": {},
   "outputs": [],
   "source": [
    "from sklearn.ensemble import RandomForestClassifier\n",
    "\n",
    "model=RandomForestClassifier(n_estimators=100)\n",
    "\n",
    "model.fit(X_train,y_train)\n",
    "\n",
    "predictions=model.predict(X_test)"
   ]
  },
  {
   "cell_type": "code",
   "execution_count": 17,
   "metadata": {},
   "outputs": [
    {
     "name": "stdout",
     "output_type": "stream",
     "text": [
      "Accuracy: 0.9849119865884325\n"
     ]
    }
   ],
   "source": [
    "print(\"Accuracy:\",metrics.accuracy_score(y_test, predictions))"
   ]
  },
  {
   "cell_type": "code",
   "execution_count": 18,
   "metadata": {},
   "outputs": [
    {
     "name": "stdout",
     "output_type": "stream",
     "text": [
      "[[1334    9]\n",
      " [  27 1016]]\n",
      "              precision    recall  f1-score   support\n",
      "\n",
      "           0       0.98      0.99      0.99      1343\n",
      "           1       0.99      0.97      0.98      1043\n",
      "\n",
      "    accuracy                           0.98      2386\n",
      "   macro avg       0.99      0.98      0.98      2386\n",
      "weighted avg       0.98      0.98      0.98      2386\n",
      "\n",
      "0.9849119865884325\n"
     ]
    }
   ],
   "source": [
    "confus_matrix=confusion_matrix(y_test,predictions)\n",
    "print(confus_matrix)\n",
    "print(classification_report(y_test,predictions))\n",
    "print(accuracy_score(y_test, predictions))"
   ]
  },
  {
   "cell_type": "code",
   "execution_count": 19,
   "metadata": {},
   "outputs": [
    {
     "name": "stdout",
     "output_type": "stream",
     "text": [
      "Test Data Accuracy: 0.9849\n"
     ]
    },
    {
     "data": {
      "image/png": "[encoded data removed]",
      "text/plain": [
       "<Figure size 756x540 with 2 Axes>"
      ]
     },
     "metadata": {
      "needs_background": "light"
     },
     "output_type": "display_data"
    }
   ],
   "source": [
    "confus_matrix = confusion_matrix(y_test, predictions)\n",
    "datafram_confus_matrix = pd.DataFrame(confus_matrix, index = (0.5, 1.5), columns = (0.5, 1.5))\n",
    "plt.figure(figsize = (10.5,7.5))\n",
    "sns.set(font_scale=1.4)\n",
    "sns.heatmap(datafram_confus_matrix, annot=True, fmt='g')\n",
    "print(\"Test Data Accuracy: %0.4f\" % accuracy_score(y_test, predictions))"
   ]
  },
  {
   "cell_type": "markdown",
   "metadata": {},
   "source": [
    "# Support Vector Machine "
   ]
  },
  {
   "cell_type": "code",
   "execution_count": 20,
   "metadata": {},
   "outputs": [],
   "source": [
    "from sklearn import svm"
   ]
  },
  {
   "cell_type": "code",
   "execution_count": 21,
   "metadata": {},
   "outputs": [],
   "source": [
    "model=svm.SVC(kernel='linear')\n",
    "model.fit(X_train,y_train)\n",
    "predictions=model.predict(X_test)"
   ]
  },
  {
   "cell_type": "code",
   "execution_count": 22,
   "metadata": {},
   "outputs": [
    {
     "name": "stdout",
     "output_type": "stream",
     "text": [
      "Accuracy: 0.9844928751047779\n"
     ]
    }
   ],
   "source": [
    "print('Accuracy:',metrics.accuracy_score(y_test, predictions))"
   ]
  },
  {
   "cell_type": "code",
   "execution_count": 23,
   "metadata": {},
   "outputs": [
    {
     "name": "stdout",
     "output_type": "stream",
     "text": [
      "Precision: 0.9912109375\n"
     ]
    }
   ],
   "source": [
    "print ('Precision:', metrics.precision_score(y_test, predictions))"
   ]
  },
  {
   "cell_type": "code",
   "execution_count": 24,
   "metadata": {},
   "outputs": [
    {
     "name": "stdout",
     "output_type": "stream",
     "text": [
      "Recall Score: 0.9731543624161074\n"
     ]
    }
   ],
   "source": [
    "print('Recall Score:', metrics.recall_score(y_test, predictions))"
   ]
  },
  {
   "cell_type": "code",
   "execution_count": 25,
   "metadata": {},
   "outputs": [
    {
     "name": "stdout",
     "output_type": "stream",
     "text": [
      "Test Data Accuracy: 0.9845\n"
     ]
    },
    {
     "data": {
      "image/png": "[encoded data removed]",
      "text/plain": [
       "<Figure size 720x504 with 2 Axes>"
      ]
     },
     "metadata": {},
     "output_type": "display_data"
    }
   ],
   "source": [
    "Confusion_matrix = confusion_matrix(y_test, predictions) \n",
    "dataframe_Confusion_matrix = pd.DataFrame(Confusion_matrix, index = (0, 1), columns = (0, 1))\n",
    "plt.figure(figsize = (10,7))\n",
    "sns.set(font_scale=1.4)\n",
    "sns.heatmap(dataframe_Confusion_matrix, annot=True, fmt='g')\n",
    "print(\"Test Data Accuracy: %0.4f\" % accuracy_score(y_test, predictions))"
   ]
  },
  {
   "cell_type": "markdown",
   "metadata": {},
   "source": [
    "# Deep Learning Algorithm (Convolutional Neural Network)"
   ]
  },
  {
   "cell_type": "markdown",
   "metadata": {},
   "source": [
    "Before we build the Convolution neural network we check the shape of X_train and X_test. As the shape is in 2D,while the CNN deels with 3D. So we reshape them"
   ]
  },
  {
   "cell_type": "code",
   "execution_count": 26,
   "metadata": {},
   "outputs": [
    {
     "data": {
      "text/plain": [
       "((9543, 1500), (2386, 1500))"
      ]
     },
     "execution_count": 26,
     "metadata": {},
     "output_type": "execute_result"
    }
   ],
   "source": [
    "X_train.shape, X_test.shape"
   ]
  },
  {
   "cell_type": "code",
   "execution_count": 27,
   "metadata": {},
   "outputs": [],
   "source": [
    "X_train=X_train.reshape(X_train.shape[0], X_train.shape[1],1)\n",
    "X_test=X_test.reshape(X_test.shape[0], X_test.shape[1],1)"
   ]
  },
  {
   "cell_type": "code",
   "execution_count": 28,
   "metadata": {},
   "outputs": [
    {
     "data": {
      "text/plain": [
       "((9543, 1500, 1), (2386, 1500, 1))"
      ]
     },
     "execution_count": 28,
     "metadata": {},
     "output_type": "execute_result"
    }
   ],
   "source": [
    "X_train.shape, X_test.shape"
   ]
  },
  {
   "cell_type": "code",
   "execution_count": 29,
   "metadata": {},
   "outputs": [
    {
     "name": "stderr",
     "output_type": "stream",
     "text": [
      "WARNING: Logging before flag parsing goes to stderr.\n",
      "W0908 03:44:24.416459  7016 deprecation.py:506] From C:\\Users\\ZuBaiR\\.conda\\envs\\PythonCPU\\lib\\site-packages\\tensorflow\\python\\ops\\init_ops.py:1251: calling VarianceScaling.__init__ (from tensorflow.python.ops.init_ops) with dtype is deprecated and will be removed in a future version.\n",
      "Instructions for updating:\n",
      "Call initializer instance with the dtype argument instead of passing it to the constructor\n"
     ]
    }
   ],
   "source": [
    "epochs=20\n",
    "model=Sequential()\n",
    "model.add(Conv1D(32,2, activation='relu', input_shape=X_train[0].shape))\n",
    "model.add(BatchNormalization())\n",
    "model.add(Dropout(0.2))\n",
    "\n",
    "model.add(Conv1D(64,2, activation='relu'))\n",
    "model.add(BatchNormalization())\n",
    "model.add(Dropout(0.5))\n",
    "\n",
    "model.add(Flatten())\n",
    "model.add(Dense(64, activation='relu'))\n",
    "model.add(Dropout(0.5))\n",
    "\n",
    "model.add(Dense(1, activation='sigmoid'))"
   ]
  },
  {
   "cell_type": "code",
   "execution_count": 30,
   "metadata": {},
   "outputs": [
    {
     "name": "stdout",
     "output_type": "stream",
     "text": [
      "Model: \"sequential\"\n",
      "_________________________________________________________________\n",
      "Layer (type)                 Output Shape              Param #   \n",
      "=================================================================\n",
      "conv1d (Conv1D)              (None, 1499, 32)          96        \n",
      "_________________________________________________________________\n",
      "batch_normalization (BatchNo (None, 1499, 32)          128       \n",
      "_________________________________________________________________\n",
      "dropout (Dropout)            (None, 1499, 32)          0         \n",
      "_________________________________________________________________\n",
      "conv1d_1 (Conv1D)            (None, 1498, 64)          4160      \n",
      "_________________________________________________________________\n",
      "batch_normalization_1 (Batch (None, 1498, 64)          256       \n",
      "_________________________________________________________________\n",
      "dropout_1 (Dropout)          (None, 1498, 64)          0         \n",
      "_________________________________________________________________\n",
      "flatten (Flatten)            (None, 95872)             0         \n",
      "_________________________________________________________________\n",
      "dense (Dense)                (None, 64)                6135872   \n",
      "_________________________________________________________________\n",
      "dropout_2 (Dropout)          (None, 64)                0         \n",
      "_________________________________________________________________\n",
      "dense_1 (Dense)              (None, 1)                 65        \n",
      "=================================================================\n",
      "Total params: 6,140,577\n",
      "Trainable params: 6,140,385\n",
      "Non-trainable params: 192\n",
      "_________________________________________________________________\n"
     ]
    }
   ],
   "source": [
    "model.summary()"
   ]
  },
  {
   "cell_type": "code",
   "execution_count": 31,
   "metadata": {},
   "outputs": [
    {
     "name": "stderr",
     "output_type": "stream",
     "text": [
      "W0908 03:44:26.323458  7016 deprecation.py:323] From C:\\Users\\ZuBaiR\\.conda\\envs\\PythonCPU\\lib\\site-packages\\tensorflow\\python\\ops\\nn_impl.py:180: add_dispatch_support.<locals>.wrapper (from tensorflow.python.ops.array_ops) is deprecated and will be removed in a future version.\n",
      "Instructions for updating:\n",
      "Use tf.where in 2.0, which has the same broadcast rule as np.where\n"
     ]
    }
   ],
   "source": [
    "model.compile(optimizer=Adam(lr=0.0001), loss='binary_crossentropy', metrics=['accuracy'])"
   ]
  },
  {
   "cell_type": "code",
   "execution_count": 32,
   "metadata": {},
   "outputs": [
    {
     "name": "stdout",
     "output_type": "stream",
     "text": [
      "Train on 9543 samples, validate on 2386 samples\n",
      "Epoch 1/20\n",
      "9543/9543 [==============================] - 158s 17ms/sample - loss: 0.1558 - acc: 0.9450 - val_loss: 0.2359 - val_acc: 0.9845\n",
      "Epoch 2/20\n",
      "9543/9543 [==============================] - 146s 15ms/sample - loss: 0.0718 - acc: 0.9768 - val_loss: 0.1028 - val_acc: 0.9832\n",
      "Epoch 3/20\n",
      "9543/9543 [==============================] - 148s 16ms/sample - loss: 0.0566 - acc: 0.9820 - val_loss: 0.0412 - val_acc: 0.9858\n",
      "Epoch 4/20\n",
      "9543/9543 [==============================] - 159s 17ms/sample - loss: 0.0523 - acc: 0.9827 - val_loss: 0.0388 - val_acc: 0.9862\n",
      "Epoch 5/20\n",
      "9543/9543 [==============================] - 151s 16ms/sample - loss: 0.0430 - acc: 0.9845 - val_loss: 0.0446 - val_acc: 0.9866\n",
      "Epoch 6/20\n",
      "9543/9543 [==============================] - 149s 16ms/sample - loss: 0.0467 - acc: 0.9838 - val_loss: 0.0355 - val_acc: 0.9874\n",
      "Epoch 7/20\n",
      "9543/9543 [==============================] - 156s 16ms/sample - loss: 0.0379 - acc: 0.9860 - val_loss: 0.0395 - val_acc: 0.9853\n",
      "Epoch 8/20\n",
      "9543/9543 [==============================] - 163s 17ms/sample - loss: 0.0372 - acc: 0.9862 - val_loss: 0.0428 - val_acc: 0.9862\n",
      "Epoch 9/20\n",
      "9543/9543 [==============================] - 162s 17ms/sample - loss: 0.0370 - acc: 0.9855 - val_loss: 0.0436 - val_acc: 0.9837\n",
      "Epoch 10/20\n",
      "9543/9543 [==============================] - 168s 18ms/sample - loss: 0.0355 - acc: 0.9864 - val_loss: 0.0478 - val_acc: 0.9828\n",
      "Epoch 11/20\n",
      "9543/9543 [==============================] - 160s 17ms/sample - loss: 0.0358 - acc: 0.9870 - val_loss: 0.0448 - val_acc: 0.9862\n",
      "Epoch 12/20\n",
      "9543/9543 [==============================] - 182s 19ms/sample - loss: 0.0316 - acc: 0.9871 - val_loss: 0.0424 - val_acc: 0.9858\n",
      "Epoch 13/20\n",
      "9543/9543 [==============================] - 197s 21ms/sample - loss: 0.0311 - acc: 0.9877 - val_loss: 0.0512 - val_acc: 0.9841\n",
      "Epoch 14/20\n",
      "9543/9543 [==============================] - 213s 22ms/sample - loss: 0.0349 - acc: 0.9867 - val_loss: 0.0458 - val_acc: 0.9858\n",
      "Epoch 15/20\n",
      "9543/9543 [==============================] - 166s 17ms/sample - loss: 0.0339 - acc: 0.9867 - val_loss: 0.0421 - val_acc: 0.9866\n",
      "Epoch 16/20\n",
      "9543/9543 [==============================] - 155s 16ms/sample - loss: 0.0343 - acc: 0.9877 - val_loss: 0.0434 - val_acc: 0.9858\n",
      "Epoch 17/20\n",
      "9543/9543 [==============================] - 155s 16ms/sample - loss: 0.0315 - acc: 0.9878 - val_loss: 0.0429 - val_acc: 0.9874\n",
      "Epoch 18/20\n",
      "9543/9543 [==============================] - 172s 18ms/sample - loss: 0.0355 - acc: 0.9870 - val_loss: 0.0382 - val_acc: 0.9862\n",
      "Epoch 19/20\n",
      "9543/9543 [==============================] - 164s 17ms/sample - loss: 0.0330 - acc: 0.9873 - val_loss: 0.0436 - val_acc: 0.9849\n",
      "Epoch 20/20\n",
      "9543/9543 [==============================] - 182s 19ms/sample - loss: 0.0323 - acc: 0.9873 - val_loss: 0.0485 - val_acc: 0.9837\n"
     ]
    }
   ],
   "source": [
    "history_model=model.fit(X_train, y_train, epochs=epochs, validation_data=(X_test, y_test), verbose=1)"
   ]
  },
  {
   "cell_type": "code",
   "execution_count": 33,
   "metadata": {},
   "outputs": [
    {
     "data": {
      "image/png": "[encoded data removed]",
      "text/plain": [
       "<Figure size 432x288 with 1 Axes>"
      ]
     },
     "metadata": {},
     "output_type": "display_data"
    },
    {
     "data": {
      "image/png": "[encoded data removed]",
      "text/plain": [
       "<Figure size 432x288 with 1 Axes>"
      ]
     },
     "metadata": {},
     "output_type": "display_data"
    }
   ],
   "source": [
    "plt.title('model accuracy')\n",
    "plt.ylabel('accuracy')\n",
    "plt.xlabel('epoch')\n",
    "plt.legend(['train','test'], loc='upper left')\n",
    "plt.show()\n",
    "\n",
    "plt.plot(history_model.history['loss'])\n",
    "plt.plot(history_model.history['val_loss'])\n",
    "\n",
    "plt.title('model loss')\n",
    "plt.ylabel('loss')\n",
    "plt.xlabel('epoch')\n",
    "plt.legend(['train','test'], loc='upper left')\n",
    "plt.show()"
   ]
  },
  {
   "cell_type": "code",
   "execution_count": 34,
   "metadata": {},
   "outputs": [],
   "source": [
    "predictions = model.predict(X_test)\n",
    "predictions = (predictions > 0.5)"
   ]
  },
  {
   "cell_type": "code",
   "execution_count": 35,
   "metadata": {},
   "outputs": [
    {
     "name": "stdout",
     "output_type": "stream",
     "text": [
      "2386/2386 [==============================] - 12s 5ms/sample - loss: 0.0485 - acc: 0.98370s - loss: 0.0483 - acc: 0\n"
     ]
    },
    {
     "data": {
      "text/plain": [
       "[0.048488057074851335, 0.9836547]"
      ]
     },
     "execution_count": 35,
     "metadata": {},
     "output_type": "execute_result"
    }
   ],
   "source": [
    "score = model.evaluate(X_test, y_test)\n",
    "score\n"
   ]
  },
  {
   "cell_type": "code",
   "execution_count": 36,
   "metadata": {},
   "outputs": [
    {
     "data": {
      "text/plain": [
       "array([[1328,   15],\n",
       "       [  24, 1019]], dtype=int64)"
      ]
     },
     "execution_count": 36,
     "metadata": {},
     "output_type": "execute_result"
    }
   ],
   "source": [
    "from sklearn.metrics import confusion_matrix\n",
    "Confusion_matrix = confusion_matrix(y_test, predictions)\n",
    "Confusion_matrix"
   ]
  },
  {
   "cell_type": "code",
   "execution_count": 37,
   "metadata": {},
   "outputs": [
    {
     "name": "stdout",
     "output_type": "stream",
     "text": [
      "              precision    recall  f1-score   support\n",
      "\n",
      "           0       0.98      0.99      0.99      1343\n",
      "           1       0.99      0.98      0.98      1043\n",
      "\n",
      "    accuracy                           0.98      2386\n",
      "   macro avg       0.98      0.98      0.98      2386\n",
      "weighted avg       0.98      0.98      0.98      2386\n",
      "\n"
     ]
    }
   ],
   "source": [
    "from sklearn.metrics import classification_report\n",
    "print(classification_report(y_test, predictions))"
   ]
  },
  {
   "cell_type": "code",
   "execution_count": 38,
   "metadata": {},
   "outputs": [
    {
     "name": "stdout",
     "output_type": "stream",
     "text": [
      "Test Data Accuracy: 0.9837\n"
     ]
    },
    {
     "data": {
      "image/png": "[encoded data removed]",
      "text/plain": [
       "<Figure size 720x504 with 2 Axes>"
      ]
     },
     "metadata": {},
     "output_type": "display_data"
    }
   ],
   "source": [
    "Confusion_matrix = confusion_matrix(y_test, predictions) \n",
    "dataframe_Confusion_matrix = pd.DataFrame(Confusion_matrix, index = (0, 1), columns = (0, 1))\n",
    "plt.figure(figsize = (10,7))\n",
    "sns.set(font_scale=1.4)\n",
    "sns.heatmap(dataframe_Confusion_matrix, annot=True, fmt='g')\n",
    "print(\"Test Data Accuracy: %0.4f\" % accuracy_score(y_test, predictions))"
   ]
  },
  {
   "cell_type": "code",
   "execution_count": null,
   "metadata": {},
   "outputs": [],
   "source": []
  },
  {
   "cell_type": "code",
   "execution_count": null,
   "metadata": {},
   "outputs": [],
   "source": []
  },
  {
   "cell_type": "code",
   "execution_count": null,
   "metadata": {},
   "outputs": [],
   "source": []
  }
 ],
 "metadata": {
  "kernelspec": {
   "display_name": "Python 3",
   "language": "python",
   "name": "python3"
  },
  "language_info": {
   "codemirror_mode": {
    "name": "ipython",
    "version": 3
   },
   "file_extension": ".py",
   "mimetype": "text/x-python",
   "name": "python",
   "nbconvert_exporter": "python",
   "pygments_lexer": "ipython3",
   "version": "3.7.4"
  }
 },
 "nbformat": 4,
 "nbformat_minor": 2
}
